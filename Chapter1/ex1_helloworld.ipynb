{
 "cells": [
  {
   "cell_type": "markdown",
   "metadata": {},
   "source": [
    "___\n",
    "<a href='https://cafe.naver.com/jmhonglab'><img src='https://lh3.googleusercontent.com/lY3ySXooSmwsq5r-mRi7uiypbo0Vez6pmNoQxMFhl9fmZJkRHu5lO2vo7se_0YOzgmDyJif9fi4_z0o3ZFdwd8NVSWG6Ea80uWaf3pOHpR4GHGDV7kaFeuHR3yAjIJjDgfXMxsvw=w2400'/></a>\n",
    "___\n",
    "<center><em>Content Copyright by HongLab, Inc.</em></center>"
   ]
  },
  {
   "cell_type": "markdown",
   "metadata": {},
   "source": [
    "# 주피터 노트북을 이용해서 파이썬을 사용해봅시다!\n",
    "\n",
    "주피터 노트북은 두 가지 종류의 셀(Cell)들로 이루어져 있습니다.\n",
    "\n",
    "1. 마크다운(Markdown) 셀에서는 마크다운 언어를 이용하여 서식이 있는 문서를 편리하게 작성할 수 있습니다.\n",
    "1. 코드(Code) 셀에서는 파이썬 언어를 편리하게 사용할 수 있습니다.\n",
    "\n"
   ]
  },
  {
   "cell_type": "markdown",
   "metadata": {},
   "source": [
    "### 파이썬을 계산기처럼 사용해봅시다.\n",
    "\n",
    "간단한 산술 연산을 해봅시다\n",
    "\n",
    ">`1+1`"
   ]
  },
  {
   "cell_type": "code",
   "execution_count": null,
   "metadata": {},
   "outputs": [],
   "source": [
    "1+1"
   ]
  },
  {
   "cell_type": "markdown",
   "metadata": {},
   "source": [
    "### 세상아 안녕!\n",
    "\n",
    "print라는 이름을 가진 함수function을 이용해서 화면에 원하는 글을 출력해봅시다.\n",
    "- 파이썬에서는 문자열(string)을 만들기 위하여 작은따옴표(')와 큰따옴표(\")를 모두 사용할 수 있습니다.\n",
    "- 그러나, 섞여서 사용할 수는 없습니다.\n",
    "\n",
    ">`print('Hello, World!')`  # ok  \n",
    ">`print(\"Hello, World!\")`  # ok  \n",
    ">`print('Hello, World!\")`  # NOT ok  \n",
    ">`print(\"Hello, World!')`  # NOT ok"
   ]
  },
  {
   "cell_type": "code",
   "execution_count": null,
   "metadata": {},
   "outputs": [],
   "source": [
    "print('Hello, World')"
   ]
  },
  {
   "cell_type": "code",
   "execution_count": null,
   "metadata": {},
   "outputs": [],
   "source": [
    "print(\"Hello, World\")"
   ]
  },
  {
   "cell_type": "markdown",
   "metadata": {},
   "source": [
    "### 내가 만들고 싶은 것을 적어봅시다.\n",
    "\n",
    "> print('여기에 내가 만들고 싶은 것을 적어보세요')"
   ]
  },
  {
   "cell_type": "code",
   "execution_count": null,
   "metadata": {},
   "outputs": [],
   "source": []
  }
 ],
 "metadata": {
  "interpreter": {
   "hash": "f64e548cbf2ebb58caacc39a919b16809fbf0a70979c18e5ddba76aa9934d80e"
  },
  "kernelspec": {
   "display_name": "Python 3.9.5 64-bit ('base': conda)",
   "language": "python",
   "name": "python3"
  },
  "language_info": {
   "codemirror_mode": {
    "name": "ipython",
    "version": 3
   },
   "file_extension": ".py",
   "mimetype": "text/x-python",
   "name": "python",
   "nbconvert_exporter": "python",
   "pygments_lexer": "ipython3",
   "version": "3.9.5"
  },
  "orig_nbformat": 4
 },
 "nbformat": 4,
 "nbformat_minor": 2
}
