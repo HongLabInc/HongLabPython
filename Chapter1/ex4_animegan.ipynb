{
 "cells": [
  {
   "cell_type": "markdown",
   "metadata": {},
   "source": [
    "___\n",
    "<a href='https://cafe.naver.com/jmhonglab'><img src='https://lh3.googleusercontent.com/Iajv63Kz_kQx1JyVkZQ08DfmgMPjFW0GVjFcQWKWZyJb9q6MUmiqdg_1wNP_uI6dmhtoanhgsW6fXiMsAfBC_oSHS9PRdAl_Uw6aXXEGFtES_lkmEDbPS0-RwWGGzSXNJa8FeLJsY9aF-06ic9SrCymB9Z0eQVumhJW8YQIICZpxKEMLwjCS1TOYUjDJAJasD_XuGA4wS-IWgY6e9M0lTPvhUpQQuGOmBjrrRD6X1clBamfHnuVVd83y1kyerI-Jug_m5tUGKL3ApLI1BsFBaWfwjFMyauz_-Hb_bcQ8ffNwW35JPbVJ3UIfZk85Xc6YatZ3A3xbc22rJz0BEWg07zsCC6H73JeQTFlIFy0iOQ1fQU48uNx_YeEJZWjCWNPwClcHR8novON4SjGesG4qyTIk3R9N40_tr_K9-d6GpGLtx0v2ERS_s2Jg7Q8a3YCFIVpMPCEcoMKyK7ypgPHxLMqKg2_ZDByIhkIcFZgmbepNCWV9zI_4bi6gbUlacAkH8BpbtE3XuSjw048qGT39DTeVP9rYKXj1o_NVJodLV8mtSqvbOZnI6hjecLhsVL2FPDbtQ5pLp0OIseSBHh_P5KfTt7hHj_AUokqvb04ixw62tEsBgfB4Yv8AqanCXog1jT2gD8jdHi5luhp1sxfV7lErvRnCETz2p31ti2UtCDMxeFcdDaOZyJrw2SGOOnAYPXdrySxBNDl3XO4PjSqtag=w2500-h300-no?authuser=0'/></a>\n",
    "___\n",
    "<center><em>Content Copyright by HongLab, Inc.</em></center>"
   ]
  },
  {
   "cell_type": "markdown",
   "metadata": {},
   "source": [
    "# 인공지능도 쉽게 사용할 수 있어요\n",
    "\n",
    "[AnimeGAN v2 파이토치 구현](https://github.com/bryandlee/animegan2-pytorch)을 사용하기 편하도록 정리한 예제입니다.\n",
    "\n",
    "콘다(Conda)로 가상환경을 만들고 [Pytorch](https://pytorch.org/)를 설치해봅시다.\n",
    "\n",
    "### 내 얼굴 사진을 애니메이션 캐릭터로 바꿔봐요\n",
    "\n",
    "딥러닝에서 사용되는 인공지능을 훈련시킬때는 빠른 GPU가 필요하지만 훈련이 끝난 후에는 CPU에서도 꽤 빠르게 작동합니다."
   ]
  },
  {
   "cell_type": "code",
   "execution_count": null,
   "metadata": {},
   "outputs": [],
   "source": [
    "from PIL import Image\n",
    "\n",
    "img = Image.open(\"jmhong_face.png\").convert(\"RGB\")\n",
    "\n",
    "display(img)"
   ]
  },
  {
   "cell_type": "code",
   "execution_count": null,
   "metadata": {},
   "outputs": [],
   "source": [
    "import torch\n",
    "\n",
    "def run(img, pretrained):\n",
    "    model = torch.hub.load(\"bryandlee/animegan2-pytorch:main\", \"generator\", pretrained=pretrained)\n",
    "    face2paint = torch.hub.load(\"bryandlee/animegan2-pytorch:main\", \"face2paint\", size=512)\n",
    "    out = face2paint(model, img)\n",
    "    display(out)"
   ]
  },
  {
   "cell_type": "code",
   "execution_count": null,
   "metadata": {},
   "outputs": [],
   "source": [
    "run(img, \"celeba_distill\")"
   ]
  },
  {
   "cell_type": "code",
   "execution_count": null,
   "metadata": {},
   "outputs": [],
   "source": [
    "run(img, \"face_paint_512_v1\")"
   ]
  },
  {
   "cell_type": "code",
   "execution_count": null,
   "metadata": {},
   "outputs": [],
   "source": [
    "run(img, \"face_paint_512_v2\")"
   ]
  },
  {
   "cell_type": "code",
   "execution_count": null,
   "metadata": {},
   "outputs": [],
   "source": [
    "run(img, \"paprika\")"
   ]
  },
  {
   "cell_type": "markdown",
   "metadata": {},
   "source": [
    "### 주어진 사진으로 테스트 해본 후에 사진을 바꿔서 해보세요. 얼굴이 크게 나온 사진이 더 잘 됩니다."
   ]
  }
 ],
 "metadata": {
  "interpreter": {
   "hash": "f64e548cbf2ebb58caacc39a919b16809fbf0a70979c18e5ddba76aa9934d80e"
  },
  "kernelspec": {
   "display_name": "Python 3.9.5 64-bit ('base': conda)",
   "language": "python",
   "name": "python3"
  },
  "language_info": {
   "codemirror_mode": {
    "name": "ipython",
    "version": 3
   },
   "file_extension": ".py",
   "mimetype": "text/x-python",
   "name": "python",
   "nbconvert_exporter": "python",
   "pygments_lexer": "ipython3",
   "version": "3.9.5"
  },
  "orig_nbformat": 4
 },
 "nbformat": 4,
 "nbformat_minor": 2
}
