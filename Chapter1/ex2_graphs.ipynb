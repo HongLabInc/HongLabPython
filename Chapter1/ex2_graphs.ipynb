{
 "cells": [
  {
   "cell_type": "markdown",
   "metadata": {},
   "source": [
    "___\n",
    "<a href='https://cafe.naver.com/jmhonglab'><img src='https://lh3.googleusercontent.com/Iajv63Kz_kQx1JyVkZQ08DfmgMPjFW0GVjFcQWKWZyJb9q6MUmiqdg_1wNP_uI6dmhtoanhgsW6fXiMsAfBC_oSHS9PRdAl_Uw6aXXEGFtES_lkmEDbPS0-RwWGGzSXNJa8FeLJsY9aF-06ic9SrCymB9Z0eQVumhJW8YQIICZpxKEMLwjCS1TOYUjDJAJasD_XuGA4wS-IWgY6e9M0lTPvhUpQQuGOmBjrrRD6X1clBamfHnuVVd83y1kyerI-Jug_m5tUGKL3ApLI1BsFBaWfwjFMyauz_-Hb_bcQ8ffNwW35JPbVJ3UIfZk85Xc6YatZ3A3xbc22rJz0BEWg07zsCC6H73JeQTFlIFy0iOQ1fQU48uNx_YeEJZWjCWNPwClcHR8novON4SjGesG4qyTIk3R9N40_tr_K9-d6GpGLtx0v2ERS_s2Jg7Q8a3YCFIVpMPCEcoMKyK7ypgPHxLMqKg2_ZDByIhkIcFZgmbepNCWV9zI_4bi6gbUlacAkH8BpbtE3XuSjw048qGT39DTeVP9rYKXj1o_NVJodLV8mtSqvbOZnI6hjecLhsVL2FPDbtQ5pLp0OIseSBHh_P5KfTt7hHj_AUokqvb04ixw62tEsBgfB4Yv8AqanCXog1jT2gD8jdHi5luhp1sxfV7lErvRnCETz2p31ti2UtCDMxeFcdDaOZyJrw2SGOOnAYPXdrySxBNDl3XO4PjSqtag=w2500-h300-no?authuser=0'/></a>\n",
    "___\n",
    "<center><em>Content Copyright by HongLab, Inc.</em></center>"
   ]
  },
  {
   "cell_type": "markdown",
   "metadata": {},
   "source": [
    "# Matplotlib을 이용해서 그래프를 그려봅시다.\n",
    "\n",
    "[Matplotlib 갤러리](https://matplotlib.org/stable/gallery/index.html)에서 맘에 드는 샘플을 실행시켜봅시다."
   ]
  },
  {
   "cell_type": "markdown",
   "metadata": {},
   "source": [
    "### [Plotting categorical variables](https://matplotlib.org/stable/gallery/lines_bars_and_markers/categorical_variables.html#sphx-glr-gallery-lines-bars-and-markers-categorical-variables-py) 예제\n",
    "복붙만으로도 멋진 그래프를 그릴 수 있어요."
   ]
  },
  {
   "cell_type": "code",
   "execution_count": null,
   "metadata": {},
   "outputs": [],
   "source": []
  }
 ],
 "metadata": {
  "interpreter": {
   "hash": "f64e548cbf2ebb58caacc39a919b16809fbf0a70979c18e5ddba76aa9934d80e"
  },
  "kernelspec": {
   "display_name": "Python 3.9.5 64-bit ('base': conda)",
   "language": "python",
   "name": "python3"
  },
  "language_info": {
   "codemirror_mode": {
    "name": "ipython",
    "version": 3
   },
   "file_extension": ".py",
   "mimetype": "text/x-python",
   "name": "python",
   "nbconvert_exporter": "python",
   "pygments_lexer": "ipython3",
   "version": "3.9.5"
  },
  "orig_nbformat": 4
 },
 "nbformat": 4,
 "nbformat_minor": 2
}
