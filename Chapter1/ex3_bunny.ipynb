{
 "cells": [
  {
   "cell_type": "markdown",
   "metadata": {},
   "source": [
    "___\n",
    "<a href='https://cafe.naver.com/jmhonglab'><img src='https://lh3.googleusercontent.com/Iajv63Kz_kQx1JyVkZQ08DfmgMPjFW0GVjFcQWKWZyJb9q6MUmiqdg_1wNP_uI6dmhtoanhgsW6fXiMsAfBC_oSHS9PRdAl_Uw6aXXEGFtES_lkmEDbPS0-RwWGGzSXNJa8FeLJsY9aF-06ic9SrCymB9Z0eQVumhJW8YQIICZpxKEMLwjCS1TOYUjDJAJasD_XuGA4wS-IWgY6e9M0lTPvhUpQQuGOmBjrrRD6X1clBamfHnuVVd83y1kyerI-Jug_m5tUGKL3ApLI1BsFBaWfwjFMyauz_-Hb_bcQ8ffNwW35JPbVJ3UIfZk85Xc6YatZ3A3xbc22rJz0BEWg07zsCC6H73JeQTFlIFy0iOQ1fQU48uNx_YeEJZWjCWNPwClcHR8novON4SjGesG4qyTIk3R9N40_tr_K9-d6GpGLtx0v2ERS_s2Jg7Q8a3YCFIVpMPCEcoMKyK7ypgPHxLMqKg2_ZDByIhkIcFZgmbepNCWV9zI_4bi6gbUlacAkH8BpbtE3XuSjw048qGT39DTeVP9rYKXj1o_NVJodLV8mtSqvbOZnI6hjecLhsVL2FPDbtQ5pLp0OIseSBHh_P5KfTt7hHj_AUokqvb04ixw62tEsBgfB4Yv8AqanCXog1jT2gD8jdHi5luhp1sxfV7lErvRnCETz2p31ti2UtCDMxeFcdDaOZyJrw2SGOOnAYPXdrySxBNDl3XO4PjSqtag=w2500-h300-no?authuser=0'/></a>\n",
    "___\n",
    "<center><em>Content Copyright by HongLab, Inc.</em></center>"
   ]
  },
  {
   "cell_type": "markdown",
   "metadata": {},
   "source": [
    "# 3차원 물체를 그려봅시다\n",
    "\n",
    "[LibIGL](https://libigl.github.io/libigl-python-bindings/tut-chapter0/)의 예제를 그대로 사용합니다."
   ]
  },
  {
   "cell_type": "markdown",
   "metadata": {},
   "source": [
    "### igl, meshplot 설치\n",
    "\n",
    "필요한 패키지들을 먼저 설치해줍시다.\n",
    "\n",
    ">`conda install -c conda-forge igl`  \n",
    ">`conda install -c conda-forge meshplot `  \n",
    "\n",
    "### 삼각형 두 개\n",
    "\n",
    "삼각형을 딱 두 개만 그려봅시다. 삼차원이기 때문에 마우스로 회전시켜볼 수 있어요."
   ]
  },
  {
   "cell_type": "code",
   "execution_count": null,
   "metadata": {},
   "outputs": [],
   "source": [
    "import igl\n",
    "import scipy as sp\n",
    "import numpy as np\n",
    "from meshplot import plot, subplot, interact\n",
    "\n",
    "import os\n",
    "root_folder = os.getcwd()\n",
    "\n",
    "v: np.array\n",
    "f: np.array\n",
    "\n",
    "V = np.array([\n",
    "    [0., 0, 0],\n",
    "    [1, 0, 0],\n",
    "    [1, 1, 1],\n",
    "    [2, 1, 0]\n",
    "])\n",
    "\n",
    "F = np.array([\n",
    "    [0, 1, 2],\n",
    "    [1, 3, 2]\n",
    "])\n",
    "\n",
    "plot(V, F)"
   ]
  },
  {
   "cell_type": "markdown",
   "metadata": {},
   "source": [
    "### 스탠포드 버니(Stanford Bunny) 그리기\n",
    "\n",
    "3차원 모델이 저장된 bunny.off 파일을 읽어서 그려줍니다. 사랑스러운 버니를 만나보세요."
   ]
  },
  {
   "cell_type": "code",
   "execution_count": null,
   "metadata": {},
   "outputs": [],
   "source": [
    "## Load a mesh in OFF format\n",
    "v, f = igl.read_triangle_mesh(os.path.join(root_folder, \"bunny.off\"))\n",
    "\n",
    "## Print the vertices and faces matrices \n",
    "print(\"Vertices: \", len(v))\n",
    "print(\"Faces: \", len(f))\n",
    "\n",
    "plot(v, f)"
   ]
  }
 ],
 "metadata": {
  "interpreter": {
   "hash": "f64e548cbf2ebb58caacc39a919b16809fbf0a70979c18e5ddba76aa9934d80e"
  },
  "kernelspec": {
   "display_name": "Python 3.9.5 64-bit ('base': conda)",
   "language": "python",
   "name": "python3"
  },
  "language_info": {
   "codemirror_mode": {
    "name": "ipython",
    "version": 3
   },
   "file_extension": ".py",
   "mimetype": "text/x-python",
   "name": "python",
   "nbconvert_exporter": "python",
   "pygments_lexer": "ipython3",
   "version": "3.9.5"
  },
  "orig_nbformat": 4
 },
 "nbformat": 4,
 "nbformat_minor": 2
}
