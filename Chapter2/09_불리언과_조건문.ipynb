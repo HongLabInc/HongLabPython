{
 "cells": [
  {
   "cell_type": "markdown",
   "metadata": {},
   "source": [
    "___\n",
    "<a href='https://cafe.naver.com/jmhonglab'><img src='https://lh3.googleusercontent.com/lY3ySXooSmwsq5r-mRi7uiypbo0Vez6pmNoQxMFhl9fmZJkRHu5lO2vo7se_0YOzgmDyJif9fi4_z0o3ZFdwd8NVSWG6Ea80uWaf3pOHpR4GHGDV7kaFeuHR3yAjIJjDgfXMxsvw=w2400'/></a>\n",
    "___\n",
    "<center><em>Content Copyright by HongLab, Inc.</em></center>"
   ]
  },
  {
   "cell_type": "markdown",
   "metadata": {},
   "source": [
    "# 표현식과 문장\n",
    "\n",
    "### 표현식(Expression)\n",
    "\n",
    "하나의 값으로 계산될 수 있는 리터럴, 변수, 연산자, 함수 호출 등의 조합을 의미합니다.  \n",
    "> 예시) 1.0 + abs(a) * b  \n",
    "> 예시) a > 1\n",
    "\n",
    "### 문장(Statement)\n",
    "\n",
    "파이썬이 실행할 수 있는 명령을 의미합니다. 지금까지 많이 사용해온 대입문(assignment statement)과 앞으로 배울 조건문과 반복문 등이 있습니다.\n",
    "\n",
    "TODO: 여기서부터는 사례별로 연습이 필요하다고 언급"
   ]
  },
  {
   "cell_type": "markdown",
   "metadata": {},
   "source": [
    "# 불리언(Boolean) 자료형"
   ]
  },
  {
   "cell_type": "code",
   "execution_count": 7,
   "metadata": {},
   "outputs": [
    {
     "data": {
      "text/plain": [
       "(bool, bool)"
      ]
     },
     "execution_count": 7,
     "metadata": {},
     "output_type": "execute_result"
    }
   ],
   "source": [
    "type(True), type(False)"
   ]
  },
  {
   "cell_type": "markdown",
   "metadata": {},
   "source": [
    "### 비교 연산자 (Comparison Operators)\n",
    "\n",
    "예시는 ```x = 1```, ```y = 2```인 경우\n",
    "|연산자| 설명 | 예시|\n",
    "|---|---|---|\n",
    "|```==```|값이 같은가?|```(x==y)```는 ```False```|\n",
    "|```!=```|값이 다른가?|```(x!=y)```는 ```True```|\n",
    "|```>```|왼쪽 더 큰가?|```(x>y)```는 ```False```|\n",
    "|```<```|오른쪽이 더 큰가?|```(x<y)```는 ```True```|\n",
    "|```>=```|왼쪽이 더 크거나 양쪽이 같은가?|```(x>=y)```는 ```False```|\n",
    "|```<=```|오른쪽이 더 크거나 양쪽이 같은가?|```(x<=y)```는 ```True```|\n",
    "\n",
    "[주의] 비교 연산자는 등호가 두 개 입니다. 초보때 많이 실수합니다."
   ]
  },
  {
   "cell_type": "code",
   "execution_count": 27,
   "metadata": {},
   "outputs": [],
   "source": [
    "x, y = 1, 2"
   ]
  },
  {
   "cell_type": "code",
   "execution_count": 31,
   "metadata": {},
   "outputs": [
    {
     "data": {
      "text/plain": [
       "True"
      ]
     },
     "execution_count": 31,
     "metadata": {},
     "output_type": "execute_result"
    }
   ],
   "source": [
    "x < y"
   ]
  },
  {
   "cell_type": "code",
   "execution_count": null,
   "metadata": {},
   "outputs": [],
   "source": []
  },
  {
   "cell_type": "markdown",
   "metadata": {},
   "source": [
    "### 불리언 연산자 ```and```\n",
    "\n",
    "|표현식|결과값|예시|\n",
    "|---|---|---|\n",
    "|```True and True```|```True```|```(1 < 2 and 3 < 4)```는 ```True```|\n",
    "|```False and True```|```False```|```(1 > 2 and 3 < 4)```는 ```False```|\n",
    "|```True and False```|```False```|```(1 < 2 and 3 > 4)```는 ```False```|\n",
    "|```False and False```|```False```|```(1 > 2 and 3 > 4)```는 ```False```|\n",
    "\n",
    "[연산자 우선순위](https://docs.python.org/3/reference/expressions.html#operator-precedence)에 따르면 ```and```의 연산자 우선 순위는 비교 연산자보다 낮습니다."
   ]
  },
  {
   "cell_type": "code",
   "execution_count": 32,
   "metadata": {},
   "outputs": [
    {
     "data": {
      "text/plain": [
       "True"
      ]
     },
     "execution_count": 32,
     "metadata": {},
     "output_type": "execute_result"
    }
   ],
   "source": [
    "1 < 2 and 3 < 4"
   ]
  },
  {
   "cell_type": "code",
   "execution_count": 33,
   "metadata": {},
   "outputs": [
    {
     "data": {
      "text/plain": [
       "False"
      ]
     },
     "execution_count": 33,
     "metadata": {},
     "output_type": "execute_result"
    }
   ],
   "source": [
    "1 < 2 and 4 < 3"
   ]
  },
  {
   "cell_type": "markdown",
   "metadata": {},
   "source": [
    "### 불리언 연산자 ```or```\n",
    "|표현식|결과값|예시|\n",
    "|---|---|---|\n",
    "|```True or True```|```True```|```(1 < 2 or 3 < 4)```는 ```True```|\n",
    "|```False or True```|```True```|```(1 > 2 or 3 < 4)```는 ```True```|\n",
    "|```True or False```|```True```|```(1 < 2 or 3 > 4)```는 ```True```|\n",
    "|```False or False```|```False```|```(1 > 2 or 3 > 4)```는 ```False```|\n"
   ]
  },
  {
   "cell_type": "code",
   "execution_count": null,
   "metadata": {},
   "outputs": [],
   "source": []
  },
  {
   "cell_type": "markdown",
   "metadata": {},
   "source": [
    "### 불리언 연산자 ```not```\n",
    "|표현식|결과값|예시|\n",
    "|---|---|---|\n",
    "|```not True```|```False```|```not 1 < 2```는 ```False```|\n",
    "|```not False```|```True```|```not 1 > 2```는 ```True```|"
   ]
  },
  {
   "cell_type": "code",
   "execution_count": 36,
   "metadata": {},
   "outputs": [
    {
     "data": {
      "text/plain": [
       "True"
      ]
     },
     "execution_count": 36,
     "metadata": {},
     "output_type": "execute_result"
    }
   ],
   "source": [
    "not 1>2"
   ]
  },
  {
   "cell_type": "markdown",
   "metadata": {},
   "source": [
    "### 연쇄 비교 연산자\n",
    "\n",
    "```a = 3```\n",
    "\n",
    "```1 < a and a < 3```  \n",
    "```1 < a < 3```  \n",
    "\n",
    "```1 < a and a > 2```\n",
    "```1 < a > 2```  "
   ]
  },
  {
   "cell_type": "code",
   "execution_count": null,
   "metadata": {},
   "outputs": [],
   "source": []
  },
  {
   "cell_type": "markdown",
   "metadata": {},
   "source": [
    "### 식별 연산자 (Identity Operator)\n",
    "\n",
    "is  \n",
    "is not  \n",
    "\n",
    "== 와 다름"
   ]
  },
  {
   "cell_type": "markdown",
   "metadata": {},
   "source": [
    "### 다른 자료형과의 관계"
   ]
  },
  {
   "cell_type": "code",
   "execution_count": 17,
   "metadata": {},
   "outputs": [
    {
     "data": {
      "text/plain": [
       "(True, True)"
      ]
     },
     "execution_count": 17,
     "metadata": {},
     "output_type": "execute_result"
    }
   ],
   "source": [
    "isinstance(True, int), isinstance(False, int)"
   ]
  },
  {
   "cell_type": "code",
   "execution_count": 23,
   "metadata": {},
   "outputs": [
    {
     "data": {
      "text/plain": [
       "(True, False, False)"
      ]
     },
     "execution_count": 23,
     "metadata": {},
     "output_type": "execute_result"
    }
   ],
   "source": [
    "bool(1), bool(0), bool(0.0)"
   ]
  },
  {
   "cell_type": "code",
   "execution_count": 16,
   "metadata": {},
   "outputs": [
    {
     "data": {
      "text/plain": [
       "(True, False)"
      ]
     },
     "execution_count": 16,
     "metadata": {},
     "output_type": "execute_result"
    }
   ],
   "source": [
    "bool(\"Hello\"), bool(\"\")"
   ]
  },
  {
   "cell_type": "code",
   "execution_count": 18,
   "metadata": {},
   "outputs": [
    {
     "data": {
      "text/plain": [
       "(True, False)"
      ]
     },
     "execution_count": 18,
     "metadata": {},
     "output_type": "execute_result"
    }
   ],
   "source": [
    "bool([1, 2]), bool([])"
   ]
  },
  {
   "cell_type": "code",
   "execution_count": 19,
   "metadata": {},
   "outputs": [
    {
     "data": {
      "text/plain": [
       "(True, False)"
      ]
     },
     "execution_count": 19,
     "metadata": {},
     "output_type": "execute_result"
    }
   ],
   "source": [
    "bool({'a':1}), bool({})"
   ]
  },
  {
   "cell_type": "code",
   "execution_count": 26,
   "metadata": {},
   "outputs": [
    {
     "data": {
      "text/plain": [
       "False"
      ]
     },
     "execution_count": 26,
     "metadata": {},
     "output_type": "execute_result"
    }
   ],
   "source": [
    "bool(None)"
   ]
  },
  {
   "cell_type": "code",
   "execution_count": null,
   "metadata": {},
   "outputs": [],
   "source": []
  },
  {
   "cell_type": "markdown",
   "metadata": {},
   "source": [
    "# 조건문 ```if```"
   ]
  },
  {
   "cell_type": "markdown",
   "metadata": {},
   "source": [
    "인덴테이션 주의"
   ]
  },
  {
   "cell_type": "code",
   "execution_count": 37,
   "metadata": {},
   "outputs": [
    {
     "name": "stdout",
     "output_type": "stream",
     "text": [
      "True!\n"
     ]
    }
   ],
   "source": [
    "if True:\n",
    "    print(\"True!\")"
   ]
  },
  {
   "cell_type": "code",
   "execution_count": 39,
   "metadata": {},
   "outputs": [
    {
     "name": "stdout",
     "output_type": "stream",
     "text": [
      "False\n"
     ]
    }
   ],
   "source": [
    "a = False\n",
    "if a:\n",
    "    print(\"True\")\n",
    "else:\n",
    "    print(\"False\")"
   ]
  },
  {
   "cell_type": "code",
   "execution_count": 40,
   "metadata": {},
   "outputs": [
    {
     "name": "stdout",
     "output_type": "stream",
     "text": [
      "안녕하세요?\n"
     ]
    }
   ],
   "source": [
    "msg = \"안녕하세요?\"\n",
    "\n",
    "if msg == \"안녕하세요?\":\n",
    "    print(\"안녕하세요?\")\n",
    "elif msg == \"반갑습니다.\":\n",
    "    print(\"저도 반갑습니다.\")\n",
    "else:\n",
    "    print(\"이해할 수 없습니다.\")"
   ]
  },
  {
   "cell_type": "markdown",
   "metadata": {},
   "source": [
    "### 구조적인 패턴 매칭 (match-case문)\n",
    "\n",
    "Python 3.10+  \n",
    "훨신 강력한 기능을 가지고 있음"
   ]
  },
  {
   "cell_type": "code",
   "execution_count": 7,
   "metadata": {},
   "outputs": [
    {
     "name": "stdout",
     "output_type": "stream",
     "text": [
      "알 수 없습니다.\n"
     ]
    }
   ],
   "source": [
    "msg = input()\n",
    "\n",
    "match msg:\n",
    "    case \"기차\":\n",
    "        print(\"기차는 길어\")\n",
    "    case \"바나나\":\n",
    "        print(\"바나나는 맛있어\")\n",
    "    case _:\n",
    "        print(\"알 수 없습니다.\")\n"
   ]
  },
  {
   "cell_type": "code",
   "execution_count": null,
   "metadata": {},
   "outputs": [],
   "source": []
  }
 ],
 "metadata": {
  "interpreter": {
   "hash": "f64e548cbf2ebb58caacc39a919b16809fbf0a70979c18e5ddba76aa9934d80e"
  },
  "kernelspec": {
   "display_name": "Python 3.9.5 64-bit ('base': conda)",
   "language": "python",
   "name": "python3"
  },
  "language_info": {
   "codemirror_mode": {
    "name": "ipython",
    "version": 3
   },
   "file_extension": ".py",
   "mimetype": "text/x-python",
   "name": "python",
   "nbconvert_exporter": "python",
   "pygments_lexer": "ipython3",
   "version": "3.10.0"
  },
  "orig_nbformat": 4
 },
 "nbformat": 4,
 "nbformat_minor": 2
}
