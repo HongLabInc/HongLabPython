{
 "cells": [
  {
   "cell_type": "markdown",
   "metadata": {},
   "source": [
    "___\n",
    "<a href='https://cafe.naver.com/jmhonglab'><img src='https://lh3.googleusercontent.com/lY3ySXooSmwsq5r-mRi7uiypbo0Vez6pmNoQxMFhl9fmZJkRHu5lO2vo7se_0YOzgmDyJif9fi4_z0o3ZFdwd8NVSWG6Ea80uWaf3pOHpR4GHGDV7kaFeuHR3yAjIJjDgfXMxsvw=w2400'/></a>\n",
    "___\n",
    "<center><em>Content Copyright by HongLab, Inc.</em></center>"
   ]
  },
  {
   "cell_type": "markdown",
   "metadata": {},
   "source": [
    "*Black은 문자열에 겹따옴표를 선호하기 때문에 여기서는 포매터를 끄고 진행하겠습니다.*"
   ]
  },
  {
   "cell_type": "markdown",
   "metadata": {},
   "source": [
    "# 문자열 사용법 ([Strings](https://docs.python.org/3/tutorial/introduction.html#strings))\n",
    "\n",
    "문자열(string)은 순서대로 나열되어 있는 문자들을 다루기에 편리한 자료형입니다.  \n",
    "글자를 여러 개 담을 수 있다는 점에서 넓은 의미로 **컨테이너(container)** 자료형 중의 하나로 분류가 됩니다.  \n",
    "컨테이너 자료형들 중에서도 원소(element)들이 순서대로 나열되어 있다는 점에서 **시퀀스(sequence)** 로 다시 분류가 됩니다.  \n",
    "시퀀스로 분류되는 자료형에는 문자열(string) 외에도 리스트(list)와 튜플(tuple)이 더 있습니다.  \n",
    "시퀀스에서는 **인덱싱(indexing)** 과 **슬라이싱(slicing)** 을 사용할 수 있습니다.\n",
    "\n",
    "1. 문자열 리터럴 만들기\n",
    "1. 문자열 출력하기\n",
    "1. 인덱싱(indexing)과 슬라이싱(slicing)\n",
    "1. 문자열의 불변성\n",
    "1. 문자열의 메써드\n",
    "1. 문자열의 포매팅\n",
    "\n",
    "**[참고]** 한국에서는 Method를 '메소드'라고 적는 경우가 많은데 요즘은 원어에 보다 가까운 표기를 원하시는 분들이 많아서 여기서는 '메써드'라고 표기하겠습니다.  \n",
    "[정확한 발음은 여기를 참고하세요.](https://www.google.com/search?q=meaning+of+method&rlz=1C1RXQR_koUS982US982&oq=meaning+of+method&aqs=chrome..69i57j0i512l9.1999j0j7&sourceid=chrome&ie=UTF-8) 스피커 버튼 클릭해서 발음 확인해보세요."
   ]
  },
  {
   "cell_type": "markdown",
   "metadata": {},
   "source": [
    "### 문자열(string) 리터럴 만들기\n",
    "한 글자 또는 여러 글자의 시작과 끝을 작은따옴표(') 또는 큰따옴표(\")로 둘러싸서 만듭니다.  \n",
    "[참고] 영어에서는 single quote(홑따옴표), double quote(겹따옴표)라고 부릅니다."
   ]
  },
  {
   "cell_type": "code",
   "execution_count": 12,
   "metadata": {},
   "outputs": [
    {
     "data": {
      "text/plain": [
       "'Hello, World'"
      ]
     },
     "execution_count": 12,
     "metadata": {},
     "output_type": "execute_result"
    }
   ],
   "source": [
    "\"Hello, World\" # 큰따옴표 사용"
   ]
  },
  {
   "cell_type": "code",
   "execution_count": 13,
   "metadata": {},
   "outputs": [
    {
     "data": {
      "text/plain": [
       "'Hello, World'"
      ]
     },
     "execution_count": 13,
     "metadata": {},
     "output_type": "execute_result"
    }
   ],
   "source": [
    "'Hello, World' # 작은따옴표 사용"
   ]
  },
  {
   "cell_type": "markdown",
   "metadata": {},
   "source": [
    "**[참고]** 문자열 리터럴에 큰따옴표(\")만을 사용하는 프로그래밍 언어들이 많습니다. 특히 C, C++, 자바에서는 작은따옴표는 글자 하나에, 큰따옴표는 여러 글자에 사용하기 때문에 아예 용도가 다릅니다. 입력하기에는 작은따옴표가 편하지만 다른 프로그래밍 언어도 공부하실 계획이라면 큰따옴표로 습관들이시는 것을 추천합니다."
   ]
  },
  {
   "cell_type": "code",
   "execution_count": 17,
   "metadata": {},
   "outputs": [
    {
     "data": {
      "text/plain": [
       "\"I'm a programmer.\""
      ]
     },
     "execution_count": 17,
     "metadata": {},
     "output_type": "execute_result"
    }
   ],
   "source": [
    "# 큰따옴표 안에서 작은따옴표 사용\n",
    "\"I'm a programmer.\""
   ]
  },
  {
   "cell_type": "code",
   "execution_count": 18,
   "metadata": {},
   "outputs": [
    {
     "data": {
      "text/plain": [
       "\"I'm a probrammer.\""
      ]
     },
     "execution_count": 18,
     "metadata": {},
     "output_type": "execute_result"
    }
   ],
   "source": [
    "# 작은따옴표 안에서 작은따옴표 사용\n",
    "'I\\'m a probrammer.'"
   ]
  },
  {
   "cell_type": "code",
   "execution_count": 21,
   "metadata": {},
   "outputs": [
    {
     "data": {
      "text/plain": [
       "'나는 \"재밌어!\"라고 외쳤다.'"
      ]
     },
     "execution_count": 21,
     "metadata": {},
     "output_type": "execute_result"
    }
   ],
   "source": [
    "# 작은따옴표 안에서 큰따옴표 사용\n",
    "'나는 \"재밌어!\"라고 외쳤다.'"
   ]
  },
  {
   "cell_type": "code",
   "execution_count": 1,
   "metadata": {},
   "outputs": [
    {
     "data": {
      "text/plain": [
       "'나는 \"재밌어!\"라고 외쳤다.'"
      ]
     },
     "execution_count": 1,
     "metadata": {},
     "output_type": "execute_result"
    }
   ],
   "source": [
    "# 큰따옴표 안에서 큰따옴표 사용\n",
    "\"나는 \\\"재밌어!\\\"라고 외쳤다.\""
   ]
  },
  {
   "cell_type": "markdown",
   "metadata": {},
   "source": [
    "위에 사용된 \\\\', \\\\\"와 같이 앞에 백슬래쉬(\\)를 붙여서 다른 의미를 갖게 된 문자들을 확장문자(**escape character**)라고 부릅니다. 아래에 더 나와요."
   ]
  },
  {
   "cell_type": "markdown",
   "metadata": {},
   "source": [
    "### 문자열 출력하기"
   ]
  },
  {
   "cell_type": "code",
   "execution_count": 43,
   "metadata": {},
   "outputs": [
    {
     "name": "stdout",
     "output_type": "stream",
     "text": [
      "안녕하세요? 반갑습니다.\n"
     ]
    }
   ],
   "source": [
    "# print()를 사용하면 따옴표가 출력되지 않습니다.\n",
    "print(\"안녕하세요? 반갑습니다.\")"
   ]
  },
  {
   "cell_type": "code",
   "execution_count": 5,
   "metadata": {},
   "outputs": [
    {
     "name": "stdout",
     "output_type": "stream",
     "text": [
      "첫 번째 줄입니다.\n",
      "두 번째 줄입니다.\n"
     ]
    }
   ],
   "source": [
    "# 두 줄 출력하기\n",
    "print(\"첫 번째 줄입니다.\")\n",
    "print(\"두 번째 줄입니다.\")"
   ]
  },
  {
   "cell_type": "code",
   "execution_count": 45,
   "metadata": {},
   "outputs": [
    {
     "name": "stdout",
     "output_type": "stream",
     "text": [
      "첫 번째 줄입니다.\n",
      "두 번째 줄입니다.\n"
     ]
    }
   ],
   "source": [
    "# 줄바꿈 \\n\n",
    "print(\"첫 번째 줄입니다.\\n두 번째 줄입니다.\")"
   ]
  },
  {
   "cell_type": "code",
   "execution_count": 46,
   "metadata": {},
   "outputs": [
    {
     "name": "stdout",
     "output_type": "stream",
     "text": [
      "첫 번째 줄입니다.\n",
      " 두 번째 줄입니다.\n"
     ]
    }
   ],
   "source": [
    "# Escape character 사용할 때는 빈칸에 주의해야 합니다.\n",
    "print(\"첫 번째 줄입니다.\\n 두 번째 줄입니다.\")"
   ]
  },
  {
   "cell_type": "code",
   "execution_count": 26,
   "metadata": {},
   "outputs": [
    {
     "name": "stdout",
     "output_type": "stream",
     "text": [
      "첫 번째 단어\t두 번째 단어\n",
      "세번째단어\t네번째단어\n"
     ]
    }
   ],
   "source": [
    "# 탭(tab) 사용 \\t\n",
    "print(\"첫 번째 단어\\t두 번째 단어\")\n",
    "print(\"세번째단어\\t네번째단어\")"
   ]
  },
  {
   "cell_type": "code",
   "execution_count": 38,
   "metadata": {},
   "outputs": [
    {
     "name": "stdout",
     "output_type": "stream",
     "text": [
      "\t12345678\n",
      "1\t12345678\n",
      "12\t12345678\n",
      "123\t12345678\n",
      "1234\t12345678\n",
      "12345\t12345678\n",
      "123456\t12345678\n",
      "1234567\t12345678\n",
      "12345678\t12345678\n"
     ]
    }
   ],
   "source": [
    "# 탭 규칙\n",
    "print(\"\\t12345678\")\n",
    "print(\"1\\t12345678\")\n",
    "print(\"12\\t12345678\")\n",
    "print(\"123\\t12345678\")\n",
    "print(\"1234\\t12345678\")\n",
    "print(\"12345\\t12345678\")\n",
    "print(\"123456\\t12345678\")\n",
    "print(\"1234567\\t12345678\")\n",
    "print(\"12345678\\t12345678\")"
   ]
  },
  {
   "cell_type": "code",
   "execution_count": null,
   "metadata": {},
   "outputs": [],
   "source": [
    "# 탭 규칙 (참고: 반복문 이용)\n",
    "a = \"\"\n",
    "for i in range(0, 25):\n",
    "    print(a + \"\\t12345678\")\n",
    "    a += str(i%8+1)"
   ]
  },
  {
   "cell_type": "code",
   "execution_count": 29,
   "metadata": {},
   "outputs": [
    {
     "name": "stdout",
     "output_type": "stream",
     "text": [
      "안녕하세요?\n",
      "안녕하세요\n"
     ]
    }
   ],
   "source": [
    "# 백스페이스(backspace)\n",
    "print(\"안녕하세요?\")\n",
    "print(\"안녕하세요?\\b\")"
   ]
  },
  {
   "cell_type": "code",
   "execution_count": 54,
   "metadata": {},
   "outputs": [
    {
     "name": "stdout",
     "output_type": "stream",
     "text": [
      "백슬래쉬 \\\n"
     ]
    }
   ],
   "source": [
    "# 백슬래쉬(backslash)\n",
    "print(\"백슬래쉬 \\\\\")"
   ]
  },
  {
   "cell_type": "code",
   "execution_count": 53,
   "metadata": {},
   "outputs": [
    {
     "name": "stdout",
     "output_type": "stream",
     "text": [
      "C:\\jmhong\n",
      "ame\n"
     ]
    }
   ],
   "source": [
    "# 의도치 않는 결과 (윈도우에서는 파일 경로 표시에 백슬래쉬를 사용합니다.)\n",
    "print(\"C:\\jmhong\\name\")"
   ]
  },
  {
   "cell_type": "code",
   "execution_count": 56,
   "metadata": {},
   "outputs": [
    {
     "name": "stdout",
     "output_type": "stream",
     "text": [
      "C:\\some\\name\n"
     ]
    }
   ],
   "source": [
    " # Raw strings (백슬래쉬를 일반적인 문자로 처리합니다.)\n",
    "print(r\"C:\\some\\name\") # print(\"C:\\\\some\\\\name\") 보다 편합니다."
   ]
  },
  {
   "cell_type": "code",
   "execution_count": 58,
   "metadata": {},
   "outputs": [
    {
     "ename": "SyntaxError",
     "evalue": "invalid syntax (Temp/ipykernel_748/1918124925.py, line 3)",
     "output_type": "error",
     "traceback": [
      "\u001b[1;36m  File \u001b[1;32m\"C:\\Users\\jmhong\\AppData\\Local\\Temp/ipykernel_748/1918124925.py\"\u001b[1;36m, line \u001b[1;32m3\u001b[0m\n\u001b[1;33m    반갑습니다.\u001b[0m\n\u001b[1;37m          ^\u001b[0m\n\u001b[1;31mSyntaxError\u001b[0m\u001b[1;31m:\u001b[0m invalid syntax\n"
     ]
    }
   ],
   "source": [
    "# 여러 줄로 리터럴을 만들고 싶은 경우\n",
    "m = \"안녕하세요?\n",
    "반갑습니다.\n",
    "저는 꼭 여러 줄을 사용하고 싶네요.\n",
    "\""
   ]
  },
  {
   "cell_type": "code",
   "execution_count": 59,
   "metadata": {},
   "outputs": [
    {
     "name": "stdout",
     "output_type": "stream",
     "text": [
      "안녕하세요?\n",
      "반갑습니다.\n",
      "저는 꼭 여러 줄을 사용하고 싶네요.\n",
      "\n"
     ]
    }
   ],
   "source": [
    "# 큰따옴표 또는 작은따옴표를 3개씩 사용\n",
    "m = \"\"\"안녕하세요?\n",
    "반갑습니다.\n",
    "저는 꼭 여러 줄을 사용하고 싶네요.\n",
    "\"\"\"\n",
    "print(m)"
   ]
  },
  {
   "cell_type": "code",
   "execution_count": 61,
   "metadata": {},
   "outputs": [
    {
     "name": "stdout",
     "output_type": "stream",
     "text": [
      "안녕하세요?\n",
      "반갑습니다.\n",
      "저는 꼭 여러 줄을 사용하고 싶네요.\n",
      "\n"
     ]
    }
   ],
   "source": [
    "# 큰따옴표 또는 작은따옴표를 3개씩 사용\n",
    "m = '''안녕하세요?\n",
    "반갑습니다.\n",
    "저는 꼭 여러 줄을 사용하고 싶네요.\n",
    "'''\n",
    "print(m)"
   ]
  },
  {
   "cell_type": "code",
   "execution_count": 65,
   "metadata": {},
   "outputs": [
    {
     "name": "stdout",
     "output_type": "stream",
     "text": [
      "안녕하세요?반갑습니다.\n",
      "저는 꼭 여러 줄을 사용하고 싶네요.\n",
      "\n"
     ]
    }
   ],
   "source": [
    "# 줄 마지막에 백슬래쉬를 넣으면 줄바꿈을 없애줍니다.\n",
    "m = \"\"\"안녕하세요?\\\n",
    "반갑습니다.\n",
    "저는 꼭 여러 줄을 사용하고 싶네요.\n",
    "\"\"\"\n",
    "print(m)"
   ]
  },
  {
   "cell_type": "code",
   "execution_count": 73,
   "metadata": {},
   "outputs": [
    {
     "data": {
      "text/plain": [
       "'헬로우월드'"
      ]
     },
     "execution_count": 73,
     "metadata": {},
     "output_type": "execute_result"
    }
   ],
   "source": [
    "# 문자열 2개는 자동으로 합쳐짐\n",
    "\"헬로우\" \"월드\""
   ]
  },
  {
   "cell_type": "code",
   "execution_count": 78,
   "metadata": {},
   "outputs": [
    {
     "ename": "SyntaxError",
     "evalue": "invalid syntax (Temp/ipykernel_748/1097291605.py, line 3)",
     "output_type": "error",
     "traceback": [
      "\u001b[1;36m  File \u001b[1;32m\"C:\\Users\\jmhong\\AppData\\Local\\Temp/ipykernel_748/1097291605.py\"\u001b[1;36m, line \u001b[1;32m3\u001b[0m\n\u001b[1;33m    h \"월드\"\u001b[0m\n\u001b[1;37m      ^\u001b[0m\n\u001b[1;31mSyntaxError\u001b[0m\u001b[1;31m:\u001b[0m invalid syntax\n"
     ]
    }
   ],
   "source": [
    "#  자동으로 합쳐지는 건 변수명이나 표현식과는 함께 되지 않음\n",
    "h = \"헬로우\"\n",
    "h \"월드\""
   ]
  },
  {
   "cell_type": "code",
   "execution_count": 75,
   "metadata": {},
   "outputs": [
    {
     "data": {
      "text/plain": [
       "'일이삼456'"
      ]
     },
     "execution_count": 75,
     "metadata": {},
     "output_type": "execute_result"
    }
   ],
   "source": [
    "# 더하기 연산자 +\n",
    "\"일이삼\" + str(456)"
   ]
  },
  {
   "cell_type": "code",
   "execution_count": 79,
   "metadata": {},
   "outputs": [
    {
     "data": {
      "text/plain": [
       "'일이삼일이삼일이삼'"
      ]
     },
     "execution_count": 79,
     "metadata": {},
     "output_type": "execute_result"
    }
   ],
   "source": [
    "# 곱하기 연산자는 반복\n",
    "\"일이삼\" * 3\n"
   ]
  },
  {
   "cell_type": "markdown",
   "metadata": {},
   "source": [
    "### 인덱싱(indexing)과 슬라이싱(slicing)"
   ]
  },
  {
   "cell_type": "code",
   "execution_count": 89,
   "metadata": {},
   "outputs": [
    {
     "data": {
      "text/plain": [
       "6"
      ]
     },
     "execution_count": 89,
     "metadata": {},
     "output_type": "execute_result"
    }
   ],
   "source": [
    "# 길이 재기\n",
    "len(\"ABC DE\") # 빈칸도 글자"
   ]
  },
  {
   "cell_type": "code",
   "execution_count": 90,
   "metadata": {},
   "outputs": [
    {
     "data": {
      "text/plain": [
       "5"
      ]
     },
     "execution_count": 90,
     "metadata": {},
     "output_type": "execute_result"
    }
   ],
   "source": [
    "# 한글 길이 재기\n",
    "len(\"안녕하세요\")"
   ]
  },
  {
   "cell_type": "markdown",
   "metadata": {},
   "source": [
    "여러 글자로 이루어진 문자열에서 글자 하나를 가져오기 위해서는 위해서는 대괄호 [] 안에 위치를 의미하는 숫자(**인덱스**)를 넣어줍니다.  \n",
    "이것을 **인덱싱**이라고 부릅니다. 문자열 외의 리스트나 튜플 같은 시퀀스(sequence)에도 사용이 가능합니다.\n"
   ]
  },
  {
   "cell_type": "code",
   "execution_count": 88,
   "metadata": {},
   "outputs": [
    {
     "data": {
      "text/plain": [
       "'A'"
      ]
     },
     "execution_count": 88,
     "metadata": {},
     "output_type": "execute_result"
    }
   ],
   "source": [
    "a = \"ABCDEF\"\n",
    "a[0]"
   ]
  },
  {
   "cell_type": "code",
   "execution_count": 87,
   "metadata": {},
   "outputs": [
    {
     "data": {
      "text/plain": [
       "'F'"
      ]
     },
     "execution_count": 87,
     "metadata": {},
     "output_type": "execute_result"
    }
   ],
   "source": [
    "# 인덱스 -1은 마지막\n",
    "a[-1]"
   ]
  },
  {
   "cell_type": "code",
   "execution_count": 128,
   "metadata": {},
   "outputs": [
    {
     "data": {
      "text/plain": [
       "'E'"
      ]
     },
     "execution_count": 128,
     "metadata": {},
     "output_type": "execute_result"
    }
   ],
   "source": [
    "# 음의 인덱스는 역순으로 가져옵니다.\n",
    "a[-2]"
   ]
  },
  {
   "cell_type": "code",
   "execution_count": 84,
   "metadata": {},
   "outputs": [
    {
     "ename": "IndexError",
     "evalue": "string index out of range",
     "output_type": "error",
     "traceback": [
      "\u001b[1;31m---------------------------------------------------------------------------\u001b[0m",
      "\u001b[1;31mIndexError\u001b[0m                                Traceback (most recent call last)",
      "\u001b[1;32m~\\AppData\\Local\\Temp/ipykernel_748/3165104115.py\u001b[0m in \u001b[0;36m<module>\u001b[1;34m\u001b[0m\n\u001b[1;32m----> 1\u001b[1;33m \u001b[0ma\u001b[0m\u001b[1;33m[\u001b[0m\u001b[1;36m100\u001b[0m\u001b[1;33m]\u001b[0m  \u001b[1;31m# string index out of range\u001b[0m\u001b[1;33m\u001b[0m\u001b[1;33m\u001b[0m\u001b[0m\n\u001b[0m",
      "\u001b[1;31mIndexError\u001b[0m: string index out of range"
     ]
    }
   ],
   "source": [
    "# 글자 수 이상의 인덱스를 사용할 경우\n",
    "a[1000]"
   ]
  },
  {
   "cell_type": "markdown",
   "metadata": {},
   "source": [
    "인덱싱의 기능을 확장해서 일부를 잘라서 가져오는 것을 **슬라이싱**이라고 부릅니다."
   ]
  },
  {
   "cell_type": "code",
   "execution_count": 100,
   "metadata": {},
   "outputs": [
    {
     "data": {
      "text/plain": [
       "'BCDEF'"
      ]
     },
     "execution_count": 100,
     "metadata": {},
     "output_type": "execute_result"
    }
   ],
   "source": [
    "# 콜론 앞의 숫자는 잘라내기 시작하는 위치입니다.\n",
    "# ABDEF\n",
    "# 01234\n",
    "a[1:]"
   ]
  },
  {
   "cell_type": "code",
   "execution_count": 115,
   "metadata": {},
   "outputs": [
    {
     "data": {
      "text/plain": [
       "'ABC'"
      ]
     },
     "execution_count": 115,
     "metadata": {},
     "output_type": "execute_result"
    }
   ],
   "source": [
    "# 첫 번째 콜론 오른쪽의 숫자는 '포함되지 않는' 마지막 위치입니다. \n",
    "# 마지막 위치의 하나 전까지 포함됩니다.\n",
    "# ABDEF\n",
    "# 01234\n",
    "a[:3]"
   ]
  },
  {
   "cell_type": "code",
   "execution_count": 158,
   "metadata": {},
   "outputs": [
    {
     "data": {
      "text/plain": [
       "'ABCDEF'"
      ]
     },
     "execution_count": 158,
     "metadata": {},
     "output_type": "execute_result"
    }
   ],
   "source": [
    "# a[:i] + a[i:]는 a와 동일\n",
    "a[:3] + a[3:]"
   ]
  },
  {
   "cell_type": "code",
   "execution_count": 131,
   "metadata": {},
   "outputs": [
    {
     "data": {
      "text/plain": [
       "'ABCDE'"
      ]
     },
     "execution_count": 131,
     "metadata": {},
     "output_type": "execute_result"
    }
   ],
   "source": [
    "# 마지막 위치에 음의 인덱스를 사용할 수도 있습니다.\n",
    "# ABDEF\n",
    "# 01234\n",
    "a[:-1]"
   ]
  },
  {
   "cell_type": "code",
   "execution_count": 113,
   "metadata": {},
   "outputs": [
    {
     "data": {
      "text/plain": [
       "'CD'"
      ]
     },
     "execution_count": 113,
     "metadata": {},
     "output_type": "execute_result"
    }
   ],
   "source": [
    "# 시작과 끝을 모두 사용할 수 있습니다.\n",
    "a[2:4]"
   ]
  },
  {
   "cell_type": "code",
   "execution_count": 118,
   "metadata": {},
   "outputs": [
    {
     "data": {
      "text/plain": [
       "''"
      ]
     },
     "execution_count": 118,
     "metadata": {},
     "output_type": "execute_result"
    }
   ],
   "source": [
    "# 시작에 len(a) 이상의 인덱스 사용시\n",
    "a[1000:]"
   ]
  },
  {
   "cell_type": "code",
   "execution_count": 126,
   "metadata": {},
   "outputs": [
    {
     "data": {
      "text/plain": [
       "'ACE'"
      ]
     },
     "execution_count": 126,
     "metadata": {},
     "output_type": "execute_result"
    }
   ],
   "source": [
    "# 건너 뛰면서 가져오고 싶을 때는 두번째 콜론 오른쪽에 1외의 숫자를 사용\n",
    "# 한걸음 두걸음 할 때와 같은 의미의 step이라고 부릅니다.\n",
    "# ABCDEF\n",
    "# 012345\n",
    "a[::2]"
   ]
  },
  {
   "cell_type": "code",
   "execution_count": 134,
   "metadata": {},
   "outputs": [
    {
     "data": {
      "text/plain": [
       "'FEDCBA'"
      ]
     },
     "execution_count": 134,
     "metadata": {},
     "output_type": "execute_result"
    }
   ],
   "source": [
    "# 스텝(step)에 음수를 사용하면 역순으로 가져옵니다.\n",
    "# ABCDEF\n",
    "# 012345\n",
    "a[::-1]"
   ]
  },
  {
   "cell_type": "code",
   "execution_count": 144,
   "metadata": {},
   "outputs": [
    {
     "data": {
      "text/plain": [
       "'BD'"
      ]
     },
     "execution_count": 144,
     "metadata": {},
     "output_type": "execute_result"
    }
   ],
   "source": [
    "# 시작, 종료, 스텝 세 가지를 모두 사용할 수 있습니다.\n",
    "# ABCDEF\n",
    "# 012345\n",
    "a[1:5:2]"
   ]
  },
  {
   "cell_type": "code",
   "execution_count": 152,
   "metadata": {},
   "outputs": [
    {
     "data": {
      "text/plain": [
       "'FEDCB'"
      ]
     },
     "execution_count": 152,
     "metadata": {},
     "output_type": "execute_result"
    }
   ],
   "source": [
    "# 음의 스텝을 사용할 때는 시작과 종료도 순서가 역순이어야 합니다.\n",
    "# ABCDEF\n",
    "# 012345\n",
    "a[-1:0:-1]"
   ]
  },
  {
   "cell_type": "code",
   "execution_count": 153,
   "metadata": {},
   "outputs": [
    {
     "data": {
      "text/plain": [
       "'FEDCBA'"
      ]
     },
     "execution_count": 153,
     "metadata": {},
     "output_type": "execute_result"
    }
   ],
   "source": [
    "# 종료를 생략하면 마지막까지 포함\n",
    "a[-1::-1]"
   ]
  },
  {
   "cell_type": "markdown",
   "metadata": {},
   "source": [
    "### 문자열의 불변성\n",
    "파이썬의 문자열(str)은 불변(immutable) 자료형입니다. 일부를 수정할 수 없고 대신에 수정된 객체를 새로 만들어야 합니다."
   ]
  },
  {
   "cell_type": "code",
   "execution_count": 154,
   "metadata": {},
   "outputs": [
    {
     "data": {
      "text/plain": [
       "'ABCDEF'"
      ]
     },
     "execution_count": 154,
     "metadata": {},
     "output_type": "execute_result"
    }
   ],
   "source": [
    "# 슬라이싱을 해도 원래 객체는 변하지 않는다.\n",
    "a"
   ]
  },
  {
   "cell_type": "code",
   "execution_count": 107,
   "metadata": {},
   "outputs": [
    {
     "name": "stdout",
     "output_type": "stream",
     "text": [
      "2887531994928\n",
      "2887532872624\n"
     ]
    }
   ],
   "source": [
    "# 슬라이싱으로 새로운 객체 생성\n",
    "b = a[1:]\n",
    "b\n",
    "print(id(a))\n",
    "print(id(b))"
   ]
  },
  {
   "cell_type": "code",
   "execution_count": 106,
   "metadata": {},
   "outputs": [
    {
     "name": "stdout",
     "output_type": "stream",
     "text": [
      "2887531994928\n",
      "2887531994928\n"
     ]
    }
   ],
   "source": [
    "# 그냥 콜론만 넣으면 전체\n",
    "a[:]\n",
    "b = a[:]\n",
    "\n",
    "# 주소가 동일\n",
    "print(id(a))\n",
    "print(id(b))"
   ]
  },
  {
   "cell_type": "code",
   "execution_count": 111,
   "metadata": {},
   "outputs": [
    {
     "name": "stdout",
     "output_type": "stream",
     "text": [
      "2887531994928\n",
      "2887531994928\n"
     ]
    }
   ],
   "source": [
    "b = a[0:1000]\n",
    "\n",
    "# 주소가 동일\n",
    "print(id(a))\n",
    "print(id(b))"
   ]
  },
  {
   "cell_type": "code",
   "execution_count": 181,
   "metadata": {},
   "outputs": [
    {
     "ename": "TypeError",
     "evalue": "'str' object does not support item assignment",
     "output_type": "error",
     "traceback": [
      "\u001b[1;31m---------------------------------------------------------------------------\u001b[0m",
      "\u001b[1;31mTypeError\u001b[0m                                 Traceback (most recent call last)",
      "\u001b[1;32m~\\AppData\\Local\\Temp/ipykernel_748/2172001828.py\u001b[0m in \u001b[0;36m<module>\u001b[1;34m\u001b[0m\n\u001b[0;32m      3\u001b[0m \u001b[1;31m# 012345\u001b[0m\u001b[1;33m\u001b[0m\u001b[1;33m\u001b[0m\u001b[1;33m\u001b[0m\u001b[0m\n\u001b[0;32m      4\u001b[0m \u001b[0ma\u001b[0m \u001b[1;33m=\u001b[0m \u001b[1;34m\"ABCDEF\"\u001b[0m\u001b[1;33m\u001b[0m\u001b[1;33m\u001b[0m\u001b[0m\n\u001b[1;32m----> 5\u001b[1;33m \u001b[0ma\u001b[0m\u001b[1;33m[\u001b[0m\u001b[1;36m2\u001b[0m\u001b[1;33m]\u001b[0m \u001b[1;33m=\u001b[0m \u001b[1;34m\"X\"\u001b[0m\u001b[1;33m\u001b[0m\u001b[1;33m\u001b[0m\u001b[0m\n\u001b[0m",
      "\u001b[1;31mTypeError\u001b[0m: 'str' object does not support item assignment"
     ]
    }
   ],
   "source": [
    "# 불변 객체의 일부를 바꿀 수 없습니다.\n",
    "# ABCDEF\n",
    "# 012345\n",
    "a = \"ABCDEF\"\n",
    "a[2] = \"X\""
   ]
  },
  {
   "cell_type": "code",
   "execution_count": 183,
   "metadata": {},
   "outputs": [
    {
     "data": {
      "text/plain": [
       "'ABXDEF'"
      ]
     },
     "execution_count": 183,
     "metadata": {},
     "output_type": "execute_result"
    }
   ],
   "source": [
    "# 특정 위치의 한 글자만 바꾸고 싶다면?\n",
    "# ABCDEF\n",
    "# 012345\n",
    "a = \"ABCDEF\"\n",
    "a = a[:2] + \"X\" + a[3:]\n",
    "a"
   ]
  },
  {
   "cell_type": "code",
   "execution_count": 171,
   "metadata": {},
   "outputs": [
    {
     "name": "stdout",
     "output_type": "stream",
     "text": [
      "2887532788976 헬로우\n",
      "2887532021200 헬로우 뒤에 붙이기\n"
     ]
    }
   ],
   "source": [
    "# 축약형 대입 연산자를 사용할 수 있습니다.\n",
    "\n",
    "a = \"헬로우\"\n",
    "\n",
    "print(id(a), a)\n",
    "\n",
    "a += \" 뒤에 붙이기\"\n",
    "\n",
    "print(id(a), a) # 주소가 바뀝니다."
   ]
  },
  {
   "cell_type": "code",
   "execution_count": 172,
   "metadata": {},
   "outputs": [
    {
     "data": {
      "text/plain": [
       "'헬로우 뒤에 붙이기뒤에 더 붙이기뒤에 더 붙이기뒤에 더 붙이기'"
      ]
     },
     "execution_count": 172,
     "metadata": {},
     "output_type": "execute_result"
    }
   ],
   "source": [
    "a += \"뒤에 더 붙이기\" * 3\n",
    "a"
   ]
  },
  {
   "cell_type": "markdown",
   "metadata": {},
   "source": [
    "### 문자열의 매써드\n",
    "문자열 객체는 다양한 메써드들을 이용해서 문자열을 다룰 수 있습니다."
   ]
  },
  {
   "cell_type": "code",
   "execution_count": 184,
   "metadata": {},
   "outputs": [
    {
     "data": {
      "text/plain": [
       "'HELLO, WORLD'"
      ]
     },
     "execution_count": 184,
     "metadata": {},
     "output_type": "execute_result"
    }
   ],
   "source": [
    "# 대문자로 바꾸기\n",
    "s = \"Hello, World\"\n",
    "s.upper()"
   ]
  },
  {
   "cell_type": "code",
   "execution_count": 185,
   "metadata": {},
   "outputs": [
    {
     "data": {
      "text/plain": [
       "'Hello, World'"
      ]
     },
     "execution_count": 185,
     "metadata": {},
     "output_type": "execute_result"
    }
   ],
   "source": [
    "# 소문자로 바꾸기\n",
    "s.lower()\n",
    "s"
   ]
  },
  {
   "cell_type": "code",
   "execution_count": 186,
   "metadata": {},
   "outputs": [],
   "source": [
    "# 한글에는 대소문자 변경이 적용되지 않아요\n",
    "s = \"홍정모\""
   ]
  },
  {
   "cell_type": "code",
   "execution_count": 187,
   "metadata": {},
   "outputs": [
    {
     "data": {
      "text/plain": [
       "'홍정모'"
      ]
     },
     "execution_count": 187,
     "metadata": {},
     "output_type": "execute_result"
    }
   ],
   "source": [
    "s.upper()"
   ]
  },
  {
   "cell_type": "code",
   "execution_count": 188,
   "metadata": {},
   "outputs": [
    {
     "data": {
      "text/plain": [
       "'홍정모'"
      ]
     },
     "execution_count": 188,
     "metadata": {},
     "output_type": "execute_result"
    }
   ],
   "source": [
    "s.lower()"
   ]
  },
  {
   "cell_type": "code",
   "execution_count": 189,
   "metadata": {},
   "outputs": [
    {
     "data": {
      "text/plain": [
       "['Hello,', 'World!', 'I', 'love', 'you!']"
      ]
     },
     "execution_count": 189,
     "metadata": {},
     "output_type": "execute_result"
    }
   ],
   "source": [
    "# 공백을 기준으로 문자열을 나누기\n",
    "s = \"Hello, World! I love you!\"\n",
    "s.split()  # returns a list"
   ]
  },
  {
   "cell_type": "code",
   "execution_count": 190,
   "metadata": {},
   "outputs": [
    {
     "data": {
      "text/plain": [
       "['Hello', ' World! I love you!']"
      ]
     },
     "execution_count": 190,
     "metadata": {},
     "output_type": "execute_result"
    }
   ],
   "source": [
    "s = \"Hello, World! I love you!\"\n",
    "s.split(',')"
   ]
  },
  {
   "cell_type": "code",
   "execution_count": 193,
   "metadata": {},
   "outputs": [
    {
     "data": {
      "text/plain": [
       "'Hello'"
      ]
     },
     "execution_count": 193,
     "metadata": {},
     "output_type": "execute_result"
    }
   ],
   "source": [
    "s.split(',')[0] # 리스트의 인덱싱"
   ]
  },
  {
   "cell_type": "code",
   "execution_count": 192,
   "metadata": {},
   "outputs": [
    {
     "data": {
      "text/plain": [
       "['Hello, World', ' I love you', '']"
      ]
     },
     "execution_count": 192,
     "metadata": {},
     "output_type": "execute_result"
    }
   ],
   "source": [
    "s = \"Hello, World! I love you!\"\n",
    "s.split('!')"
   ]
  },
  {
   "cell_type": "code",
   "execution_count": 195,
   "metadata": {},
   "outputs": [
    {
     "data": {
      "text/plain": [
       "False"
      ]
     },
     "execution_count": 195,
     "metadata": {},
     "output_type": "execute_result"
    }
   ],
   "source": [
    "# 멤버쉽 연산자 in\n",
    "s = \"Hello\"\n",
    "'A' in s"
   ]
  },
  {
   "cell_type": "code",
   "execution_count": 196,
   "metadata": {},
   "outputs": [
    {
     "data": {
      "text/plain": [
       "True"
      ]
     },
     "execution_count": 196,
     "metadata": {},
     "output_type": "execute_result"
    }
   ],
   "source": [
    "# 멤버쉽 연산자 in\n",
    "s = \"Hello\"\n",
    "'H' in s"
   ]
  },
  {
   "cell_type": "code",
   "execution_count": 197,
   "metadata": {},
   "outputs": [
    {
     "name": "stdout",
     "output_type": "stream",
     "text": [
      "H\n",
      "e\n",
      "l\n",
      "l\n",
      "o\n",
      "!\n"
     ]
    }
   ],
   "source": [
    "# 반복문과 함께 사용\n",
    "s = \"Hello!\"\n",
    "for c in s:\n",
    "    print(c)"
   ]
  },
  {
   "cell_type": "markdown",
   "metadata": {},
   "source": [
    "더 다양한 메써드들의 사용법은 [공식 문서](https://docs.python.org/3/library/stdtypes.html#string-methods)와 아래 예제들을 참고하세요.  \n",
    "특히 [여기](https://www.w3schools.com/python/python_ref_string.asp)에서는 온라인 파이썬으로 빠르게 테스트해볼 수도 있습니다. 메써드 이름을 클릭해보세요."
   ]
  },
  {
   "cell_type": "code",
   "execution_count": 200,
   "metadata": {},
   "outputs": [
    {
     "data": {
      "text/plain": [
       "'Abc def'"
      ]
     },
     "execution_count": 200,
     "metadata": {},
     "output_type": "execute_result"
    }
   ],
   "source": [
    "\"abc def\".capitalize() # 첫 글자를 대문자로"
   ]
  },
  {
   "cell_type": "code",
   "execution_count": 201,
   "metadata": {},
   "outputs": [
    {
     "data": {
      "text/plain": [
       "'Abc Def'"
      ]
     },
     "execution_count": 201,
     "metadata": {},
     "output_type": "execute_result"
    }
   ],
   "source": [
    "\"abc def\".title() # 각 단어의 첫 글자를 대문자로"
   ]
  },
  {
   "cell_type": "code",
   "execution_count": 203,
   "metadata": {},
   "outputs": [
    {
     "data": {
      "text/plain": [
       "2"
      ]
     },
     "execution_count": 203,
     "metadata": {},
     "output_type": "execute_result"
    }
   ],
   "source": [
    "txt = \"I love apples, apple are my favorite fruit\"\n",
    "txt.count(\"apple\") # \"apple\"이 txt에 몇 번 나오는지를 세줍니다."
   ]
  },
  {
   "cell_type": "code",
   "execution_count": 204,
   "metadata": {},
   "outputs": [
    {
     "data": {
      "text/plain": [
       "True"
      ]
     },
     "execution_count": 204,
     "metadata": {},
     "output_type": "execute_result"
    }
   ],
   "source": [
    "filename = \"blakpink.png\"\n",
    "filename.endswith(\"png\") # filename의 마지막이 \"png\"로 끝나는지 확인합니다."
   ]
  },
  {
   "cell_type": "code",
   "execution_count": 208,
   "metadata": {},
   "outputs": [
    {
     "data": {
      "text/plain": [
       "2"
      ]
     },
     "execution_count": 208,
     "metadata": {},
     "output_type": "execute_result"
    }
   ],
   "source": [
    "txt = \"ABCDEF\"\n",
    "txt.find(\"CD\") # \"CD\"의 위치를 찾아서 인덱스를 알려줍니다."
   ]
  },
  {
   "cell_type": "code",
   "execution_count": 222,
   "metadata": {},
   "outputs": [
    {
     "data": {
      "text/plain": [
       "True"
      ]
     },
     "execution_count": 222,
     "metadata": {},
     "output_type": "execute_result"
    }
   ],
   "source": [
    "txt = \"1234\"\n",
    "txt.isdigit() # 모든 글자가 숫자인지를 확인합니다. input()과 함께 많이 사용됩니다."
   ]
  },
  {
   "cell_type": "code",
   "execution_count": 226,
   "metadata": {},
   "outputs": [
    {
     "data": {
      "text/plain": [
       "'OOOOABC'"
      ]
     },
     "execution_count": 226,
     "metadata": {},
     "output_type": "execute_result"
    }
   ],
   "source": [
    "txt = \"ABABCBAOOOOABC\"\n",
    "txt.lstrip(\"ABC\") # 왼쪽에서부터 A 또는 B 또는 C를 모두 제거"
   ]
  },
  {
   "cell_type": "code",
   "execution_count": 228,
   "metadata": {},
   "outputs": [
    {
     "data": {
      "text/plain": [
       "'OOOOHELLOOOOOHELLO'"
      ]
     },
     "execution_count": 228,
     "metadata": {},
     "output_type": "execute_result"
    }
   ],
   "source": [
    "txt = \"OOOOABCOOOOABC\"\n",
    "txt.replace(\"ABC\", \"HELLO\") # \"ABC\"를 \"HELLO\"로 교체"
   ]
  },
  {
   "cell_type": "code",
   "execution_count": 237,
   "metadata": {},
   "outputs": [
    {
     "data": {
      "text/plain": [
       "'00123.jpg'"
      ]
     },
     "execution_count": 237,
     "metadata": {},
     "output_type": "execute_result"
    }
   ],
   "source": [
    "# z는 zero의 약자입니다. 최소 5글자가 되도록 왼쪽에서부터 0으로 채워줍니다. \n",
    "# 연속되는 파일들을 저장할때 많이 사용합니다.\n",
    "txt = \"123\"\n",
    "txt.zfill(5) + '.jpg'"
   ]
  },
  {
   "cell_type": "markdown",
   "metadata": {},
   "source": [
    "### 문자열 포매팅(formatting)\n",
    "문자열을 원하는 형식에 맞출 수 있습니다. 보통 출력할 때 많이 사용합니다."
   ]
  },
  {
   "cell_type": "code",
   "execution_count": null,
   "metadata": {},
   "outputs": [],
   "source": [
    "\"Insert another string with curly brackets: {}\".format(\"The inserted string\")"
   ]
  },
  {
   "cell_type": "code",
   "execution_count": 1,
   "metadata": {},
   "outputs": [
    {
     "data": {
      "text/plain": [
       "'33'"
      ]
     },
     "execution_count": 1,
     "metadata": {},
     "output_type": "execute_result"
    }
   ],
   "source": [
    "player = \"Thomas\"\n",
    "points = 33\n",
    "\n",
    "str(points)"
   ]
  },
  {
   "cell_type": "code",
   "execution_count": 2,
   "metadata": {},
   "outputs": [
    {
     "data": {
      "text/plain": [
       "'Last night, Thomas scored 33 points.'"
      ]
     },
     "execution_count": 2,
     "metadata": {},
     "output_type": "execute_result"
    }
   ],
   "source": [
    "\"Last night, \" + player + \" scored \" + str(points) + \" points.\"  # concatenation"
   ]
  },
  {
   "cell_type": "code",
   "execution_count": 3,
   "metadata": {},
   "outputs": [
    {
     "data": {
      "text/plain": [
       "'Last night, Thomas scored 33 points.'"
      ]
     },
     "execution_count": 3,
     "metadata": {},
     "output_type": "execute_result"
    }
   ],
   "source": [
    "f\"Last night, {player} scored {points} points.\"  # string formatting"
   ]
  },
  {
   "cell_type": "code",
   "execution_count": 11,
   "metadata": {},
   "outputs": [
    {
     "data": {
      "text/plain": [
       "'Last night { points } Hello'"
      ]
     },
     "execution_count": 11,
     "metadata": {},
     "output_type": "execute_result"
    }
   ],
   "source": [
    "f\"Last night {{ points }} Hello\""
   ]
  },
  {
   "cell_type": "markdown",
   "metadata": {},
   "source": [
    "예전에는 % 사용, 이후에 .format(), 최근에는 3.6에서 f-string 생김"
   ]
  },
  {
   "cell_type": "markdown",
   "metadata": {},
   "source": [
    "### Formatting with placeholders"
   ]
  },
  {
   "cell_type": "code",
   "execution_count": 13,
   "metadata": {},
   "outputs": [
    {
     "name": "stdout",
     "output_type": "stream",
     "text": [
      "I'm going to inject something here.\n"
     ]
    }
   ],
   "source": [
    "print(\"I'm going to inject %s here.\" % \"something\")"
   ]
  },
  {
   "cell_type": "code",
   "execution_count": 17,
   "metadata": {},
   "outputs": [
    {
     "name": "stdout",
     "output_type": "stream",
     "text": [
      "AAA 123 BBB 456 CCC\n"
     ]
    }
   ],
   "source": [
    "print(\"AAA %s BBB %s CCC\" % (123, 456))"
   ]
  },
  {
   "cell_type": "code",
   "execution_count": 18,
   "metadata": {},
   "outputs": [
    {
     "ename": "TypeError",
     "evalue": "not enough arguments for format string",
     "output_type": "error",
     "traceback": [
      "\u001b[1;31m---------------------------------------------------------------------------\u001b[0m",
      "\u001b[1;31mTypeError\u001b[0m                                 Traceback (most recent call last)",
      "\u001b[1;32m~\\AppData\\Local\\Temp/ipykernel_2072/3182779372.py\u001b[0m in \u001b[0;36m<module>\u001b[1;34m\u001b[0m\n\u001b[1;32m----> 1\u001b[1;33m \u001b[0mprint\u001b[0m\u001b[1;33m(\u001b[0m\u001b[1;34m\"AAA %s BBB %s CCC\"\u001b[0m \u001b[1;33m%\u001b[0m\u001b[1;33m(\u001b[0m\u001b[1;36m123\u001b[0m\u001b[1;33m)\u001b[0m\u001b[1;33m)\u001b[0m\u001b[1;33m\u001b[0m\u001b[1;33m\u001b[0m\u001b[0m\n\u001b[0m",
      "\u001b[1;31mTypeError\u001b[0m: not enough arguments for format string"
     ]
    }
   ],
   "source": [
    "print(\"AAA %s BBB %s CCC\" % (123))"
   ]
  },
  {
   "cell_type": "code",
   "execution_count": 19,
   "metadata": {},
   "outputs": [
    {
     "ename": "TypeError",
     "evalue": "not enough arguments for format string",
     "output_type": "error",
     "traceback": [
      "\u001b[1;31m---------------------------------------------------------------------------\u001b[0m",
      "\u001b[1;31mTypeError\u001b[0m                                 Traceback (most recent call last)",
      "\u001b[1;32m~\\AppData\\Local\\Temp/ipykernel_2072/722092754.py\u001b[0m in \u001b[0;36m<module>\u001b[1;34m\u001b[0m\n\u001b[1;32m----> 1\u001b[1;33m \u001b[0mprint\u001b[0m\u001b[1;33m(\u001b[0m\u001b[1;34m\"AAA %s BBB %s CCC\"\u001b[0m \u001b[1;33m%\u001b[0m\u001b[1;36m123\u001b[0m\u001b[1;33m)\u001b[0m\u001b[1;33m\u001b[0m\u001b[1;33m\u001b[0m\u001b[0m\n\u001b[0m",
      "\u001b[1;31mTypeError\u001b[0m: not enough arguments for format string"
     ]
    }
   ],
   "source": [
    "print(\"AAA %s BBB %s CCC\" % 123)"
   ]
  },
  {
   "cell_type": "code",
   "execution_count": 20,
   "metadata": {},
   "outputs": [
    {
     "name": "stdout",
     "output_type": "stream",
     "text": [
      "AAA some BBB more CCC\n"
     ]
    }
   ],
   "source": [
    "x, y = \"some\", \"more\"\n",
    "print(\"AAA %s BBB %s CCC\" % (x, y))"
   ]
  },
  {
   "cell_type": "markdown",
   "metadata": {},
   "source": [
    "### Formation conversion methods"
   ]
  },
  {
   "cell_type": "code",
   "execution_count": 23,
   "metadata": {},
   "outputs": [
    {
     "name": "stdout",
     "output_type": "stream",
     "text": [
      "Fred\n",
      "'Fred'\n"
     ]
    }
   ],
   "source": [
    "print(\"%s\" % \"Fred\")\n",
    "print(\"%r\" % \"Fred\")"
   ]
  },
  {
   "cell_type": "code",
   "execution_count": 35,
   "metadata": {},
   "outputs": [
    {
     "data": {
      "text/plain": [
       "'2021-12-18 23:25:48.101553'"
      ]
     },
     "execution_count": 35,
     "metadata": {},
     "output_type": "execute_result"
    }
   ],
   "source": [
    "import datetime\n",
    "\n",
    "today = datetime.datetime.now()\n",
    "str(today)"
   ]
  },
  {
   "cell_type": "code",
   "execution_count": 36,
   "metadata": {},
   "outputs": [
    {
     "data": {
      "text/plain": [
       "'datetime.datetime(2021, 12, 18, 23, 25, 48, 101553)'"
      ]
     },
     "execution_count": 36,
     "metadata": {},
     "output_type": "execute_result"
    }
   ],
   "source": [
    "repr(today)"
   ]
  },
  {
   "cell_type": "code",
   "execution_count": 38,
   "metadata": {},
   "outputs": [
    {
     "name": "stdout",
     "output_type": "stream",
     "text": [
      "2021-12-18 23:25:48.101553\n",
      "datetime.datetime(2021, 12, 18, 23, 25, 48, 101553)\n"
     ]
    }
   ],
   "source": [
    "print(\"%s\" % today)\n",
    "print(\"%r\" % today)"
   ]
  },
  {
   "cell_type": "code",
   "execution_count": 41,
   "metadata": {},
   "outputs": [
    {
     "name": "stdout",
     "output_type": "stream",
     "text": [
      "I once caught a fish this \tbig.\n",
      "I once caught a fish 'this \\tbig'.\n"
     ]
    }
   ],
   "source": [
    "print(\"I once caught a fish %s.\" % \"this \\tbig\")\n",
    "print(\"I once caught a fish %r.\" % \"this \\tbig\")"
   ]
  },
  {
   "cell_type": "code",
   "execution_count": 52,
   "metadata": {},
   "outputs": [
    {
     "name": "stdout",
     "output_type": "stream",
     "text": [
      "I wrote 3.75 programs today.\n",
      "I wrote 3 programs today.\n"
     ]
    }
   ],
   "source": [
    "print(\"I wrote %s programs today.\" % 3.75)\n",
    "print(\"I wrote %d programs today.\" % 3.75)  # integers"
   ]
  },
  {
   "cell_type": "markdown",
   "metadata": {},
   "source": [
    "### 소수점 정밀도와 패딩 Padding and Precision of Floating Point Numbers"
   ]
  },
  {
   "cell_type": "code",
   "execution_count": 53,
   "metadata": {},
   "outputs": [
    {
     "name": "stdout",
     "output_type": "stream",
     "text": [
      "I wrote 3.750000 programs today.\n",
      "I wrote 3.750 programs today.\n",
      "I wrote 4 programs today.\n",
      "I wrote 4 programs today.\n"
     ]
    }
   ],
   "source": [
    "print(\"I wrote %f programs today.\" % 3.75)\n",
    "print(\"I wrote %.3f programs today.\" % 3.75)\n",
    "print(\"I wrote %.0f programs today.\" % 3.75)\n",
    "print(\"I wrote %.f programs today.\" % 3.75)"
   ]
  },
  {
   "cell_type": "code",
   "execution_count": 59,
   "metadata": {},
   "outputs": [
    {
     "name": "stdout",
     "output_type": "stream",
     "text": [
      "I wrote1.000000\n"
     ]
    }
   ],
   "source": [
    "print(\"I wrote%2f\" % 1.0)"
   ]
  },
  {
   "cell_type": "markdown",
   "metadata": {},
   "source": [
    "옛날 방식에 대한 더 자세한\n",
    "https://docs.python.org/3/library/stdtypes.html#old-string-formatting"
   ]
  },
  {
   "cell_type": "code",
   "execution_count": 60,
   "metadata": {},
   "outputs": [
    {
     "name": "stdout",
     "output_type": "stream",
     "text": [
      "First: hi!, Second:  3.14, Third: 'bye!'\n"
     ]
    }
   ],
   "source": [
    "print(\"First: %s, Second: %5.2f, Third: %r\" % (\"hi!\", 3.1415, \"bye!\"))"
   ]
  },
  {
   "cell_type": "markdown",
   "metadata": {},
   "source": [
    "### .format() 이용\n",
    ".format()이 %s placeholder보다 편하다는 것 강조"
   ]
  },
  {
   "cell_type": "code",
   "execution_count": 62,
   "metadata": {},
   "outputs": [
    {
     "name": "stdout",
     "output_type": "stream",
     "text": [
      "This is a string with an insert\n"
     ]
    }
   ],
   "source": [
    "print(\"This is a string with an {}\".format(\"insert\"))"
   ]
  },
  {
   "cell_type": "code",
   "execution_count": 66,
   "metadata": {},
   "outputs": [
    {
     "name": "stdout",
     "output_type": "stream",
     "text": [
      "The quick brown fox\n"
     ]
    }
   ],
   "source": [
    "# 1. Inserted objects can be called by index position:\n",
    "print(\"The {2} {1} {0}\".format(\"fox\", \"brown\", \"quick\"))"
   ]
  },
  {
   "cell_type": "code",
   "execution_count": 67,
   "metadata": {},
   "outputs": [
    {
     "name": "stdout",
     "output_type": "stream",
     "text": [
      "First Object: 1, Second Object: Two, Third Object: 12.3\n"
     ]
    }
   ],
   "source": [
    "# 2. Inserted objects can be assigned keywords:\n",
    "print(\n",
    "    \"First Object: {a}, Second Object: {b}, Third Object: {c}\".format(\n",
    "        a=1, b=\"Two\", c=12.3\n",
    "    )\n",
    ")"
   ]
  },
  {
   "cell_type": "code",
   "execution_count": 68,
   "metadata": {},
   "outputs": [
    {
     "name": "stdout",
     "output_type": "stream",
     "text": [
      "A penny saved is a penny earned.\n",
      "A penny saved is a penny earned.\n"
     ]
    }
   ],
   "source": [
    "# 3. Inserted objects can be reused, avoiding duplication: 재사용 가능\n",
    "print(\"A %s saved is a %s earned.\" % (\"penny\", \"penny\"))\n",
    "# vs.\n",
    "print(\"A {p} saved is a {p} earned.\".format(p=\"penny\"))"
   ]
  },
  {
   "cell_type": "markdown",
   "metadata": {},
   "source": [
    "### Alignment, padding and precision with `.format()`\n",
    "Within the curly braces you can assign field lengths, left/right alignments, rounding parameters and more"
   ]
  },
  {
   "cell_type": "code",
   "execution_count": 76,
   "metadata": {},
   "outputs": [
    {
     "name": "stdout",
     "output_type": "stream",
     "text": [
      "Fruit    | Quantity \n",
      "Apples   |       3.0\n",
      "Oranges  |        10\n"
     ]
    }
   ],
   "source": [
    "print(\"{0:8} | {1:9}\".format(\"Fruit\", \"Quantity\"))\n",
    "print(\"{0:8} | {1:9}\".format(\"Apples\", 3.0))\n",
    "print(\"{0:8} | {1:9}\".format(\"Oranges\", 10))"
   ]
  },
  {
   "cell_type": "code",
   "execution_count": 78,
   "metadata": {},
   "outputs": [
    {
     "name": "stdout",
     "output_type": "stream",
     "text": [
      "Left     |  Center  |    Right\n",
      "11       |    22    |       33\n"
     ]
    }
   ],
   "source": [
    "# <, ^, > : left, center, right\n",
    "print(\"{0:<8} | {1:^8} | {2:>8}\".format(\"Left\", \"Center\", \"Right\"))\n",
    "print(\"{0:<8} | {1:^8} | {2:>8}\".format(11, 22, 33))"
   ]
  },
  {
   "cell_type": "code",
   "execution_count": 81,
   "metadata": {},
   "outputs": [
    {
     "name": "stdout",
     "output_type": "stream",
     "text": [
      "Left==== | -Center- | ...Right\n",
      "11====== |    22    | ......33\n"
     ]
    }
   ],
   "source": [
    "# padding character\n",
    "print(\"{0:=<8} | {1:-^8} | {2:.>8}\".format(\"Left\", \"Center\", \"Right\"))\n",
    "print(\"{0:=<8} | {1:^8} | {2:.>8}\".format(11, 22, 33))"
   ]
  },
  {
   "cell_type": "code",
   "execution_count": 84,
   "metadata": {},
   "outputs": [
    {
     "name": "stdout",
     "output_type": "stream",
     "text": [
      "This is my ten-character, two-decimal number:     13.58\n",
      "This is my ten-character, two-decimal number:     13.58\n"
     ]
    }
   ],
   "source": [
    "# 출력 정밀도 조절\n",
    "print(\"This is my ten-character, two-decimal number:%10.2f\" % 13.579)\n",
    "print(\"This is my ten-character, two-decimal number:{0:10.2f}\".format(13.579))\n",
    "# 총 10글자"
   ]
  },
  {
   "cell_type": "code",
   "execution_count": 85,
   "metadata": {},
   "outputs": [],
   "source": [
    "# Python 3.6 f-strings"
   ]
  },
  {
   "cell_type": "code",
   "execution_count": 86,
   "metadata": {},
   "outputs": [
    {
     "name": "stdout",
     "output_type": "stream",
     "text": [
      "He said his name is Fred.\n"
     ]
    }
   ],
   "source": [
    "name = \"Fred\"\n",
    "print(f\"He said his name is {name}.\")"
   ]
  },
  {
   "cell_type": "code",
   "execution_count": 87,
   "metadata": {},
   "outputs": [
    {
     "name": "stdout",
     "output_type": "stream",
     "text": [
      "He said his name is 'Fred'\n"
     ]
    }
   ],
   "source": [
    "# string representation\n",
    "print(f\"He said his name is {name!r}\")"
   ]
  },
  {
   "cell_type": "code",
   "execution_count": 90,
   "metadata": {},
   "outputs": [
    {
     "name": "stdout",
     "output_type": "stream",
     "text": [
      "Hello 2021-12-18 23:25:48.101553\n",
      "Hello datetime.datetime(2021, 12, 18, 23, 25, 48, 101553)\n"
     ]
    }
   ],
   "source": [
    "print(f\"Hello {today}\")\n",
    "print(f\"Hello {today!r}\")"
   ]
  },
  {
   "cell_type": "code",
   "execution_count": 93,
   "metadata": {},
   "outputs": [
    {
     "name": "stdout",
     "output_type": "stream",
     "text": [
      "My 10 character, four decimal number is:   23.4568\n",
      "My 10 character, four decimal number is:   23.4568\n"
     ]
    }
   ],
   "source": [
    "num = 23.45678\n",
    "print(\"My 10 character, four decimal number is:{0:10.4f}\".format(num))  # 4는소수점 이하\n",
    "print(f\"My 10 character, four decimal number is:{num:{10}.{6}}\")  # 6은 출력되는 총 숫자"
   ]
  },
  {
   "cell_type": "code",
   "execution_count": 95,
   "metadata": {},
   "outputs": [
    {
     "name": "stdout",
     "output_type": "stream",
     "text": [
      "My 10 character, four decimal number is:   23.4500\n",
      "My 10 character, four decimal number is:     23.45\n"
     ]
    }
   ],
   "source": [
    "num = 23.45\n",
    "print(\"My 10 character, four decimal number is:{0:10.4f}\".format(num))\n",
    "print(f\"My 10 character, four decimal number is:{num:{10}.{6}}\")  # 0으로 패딩을 해주지는 않는다."
   ]
  },
  {
   "cell_type": "code",
   "execution_count": 97,
   "metadata": {},
   "outputs": [
    {
     "name": "stdout",
     "output_type": "stream",
     "text": [
      "My 10 character, four decimal number is:   23.4500\n",
      "My 10 character, four decimal number is:   23.4500\n"
     ]
    }
   ],
   "source": [
    "num = 23.45\n",
    "print(\"My 10 character, four decimal number is:{0:10.4f}\".format(num))\n",
    "print(f\"My 10 character, four decimal number is:{num:10.4f}\")  # 섞어서 사용하면 패딩 가능"
   ]
  },
  {
   "cell_type": "markdown",
   "metadata": {},
   "source": [
    "더 자세한 내용\n",
    "https://docs.python.org/3/reference/lexical_analysis.html#f-strings"
   ]
  },
  {
   "cell_type": "markdown",
   "metadata": {},
   "source": []
  },
  {
   "cell_type": "code",
   "execution_count": null,
   "metadata": {},
   "outputs": [],
   "source": []
  }
 ],
 "metadata": {
  "interpreter": {
   "hash": "d187a48a8a4b28f37103ceb7e85bceb2b63d70db7314890fe18e7e16ec425e3f"
  },
  "kernelspec": {
   "display_name": "Python 3 (ipykernel)",
   "language": "python",
   "name": "python3"
  },
  "language_info": {
   "codemirror_mode": {
    "name": "ipython",
    "version": 3
   },
   "file_extension": ".py",
   "mimetype": "text/x-python",
   "name": "python",
   "nbconvert_exporter": "python",
   "pygments_lexer": "ipython3",
   "version": "3.9.5"
  }
 },
 "nbformat": 4,
 "nbformat_minor": 2
}
