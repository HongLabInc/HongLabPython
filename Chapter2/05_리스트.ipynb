{
 "cells": [
  {
   "cell_type": "markdown",
   "metadata": {},
   "source": [
    "___\n",
    "<a href='https://cafe.naver.com/jmhonglab'><img src='https://lh3.googleusercontent.com/lY3ySXooSmwsq5r-mRi7uiypbo0Vez6pmNoQxMFhl9fmZJkRHu5lO2vo7se_0YOzgmDyJif9fi4_z0o3ZFdwd8NVSWG6Ea80uWaf3pOHpR4GHGDV7kaFeuHR3yAjIJjDgfXMxsvw=w2400'/></a>\n",
    "___\n",
    "<center><em>Content Copyright by HongLab, Inc.</em></center>"
   ]
  },
  {
   "cell_type": "markdown",
   "metadata": {},
   "source": [
    "# 파이썬 컨테이너(Containers)\n",
    "\n",
    "파이썬에서는 다른 객체들을 여러 개 담을 수 있는 자료형들도 제공합니다. 기본적으로는 리스트(list), 사전(dict), 집합(set), 튜플(tuple) 등이 제공됩니다. [collections 모듈](https://docs.python.org/ko/3/library/collections.html)을 통해서 더 많은 종류의 컨테이너 자료형들을 사용할 수 있습니다.\n",
    "\n",
    "### 기본 컨테이터 자료형들 정리\n",
    "\n",
    "|이름|type|예시|가변성|순서유지|중복허용|\n",
    "|---|---|---|---|---|---|\n",
    "|리스트|list|```[\"사과\", 123, 3.14]```|가변|O|O|\n",
    "|튜플|tuple|```(\"사과\", 123, 3.14)```|불변|O|O|\n",
    "|집합|set|```{\"사과\", 123, 3.14}```|가변|X|X|\n",
    "|사전|dict|```{\"원주율\":3.14, 123:\"일이삼\"}```|가변|3.6+|키X값O|"
   ]
  },
  {
   "cell_type": "code",
   "execution_count": 19,
   "metadata": {},
   "outputs": [
    {
     "data": {
      "text/plain": [
       "True"
      ]
     },
     "execution_count": 19,
     "metadata": {},
     "output_type": "execute_result"
    }
   ],
   "source": [
    "# 어떤 객체가 컨테이너인지 확인\n",
    "from collections.abc import Container\n",
    "\n",
    "isinstance([\"사과\", 123, 3.14], Container)"
   ]
  },
  {
   "cell_type": "code",
   "execution_count": 20,
   "metadata": {},
   "outputs": [
    {
     "data": {
      "text/plain": [
       "True"
      ]
     },
     "execution_count": 20,
     "metadata": {},
     "output_type": "execute_result"
    }
   ],
   "source": [
    "# 어떤 객체가 이터러블인지 확인 (for문에서 사용가능)\n",
    "from collections.abc import Iterable\n",
    "\n",
    "isinstance([\"사과\", 123, 3.14], Iterable)"
   ]
  },
  {
   "cell_type": "code",
   "execution_count": 48,
   "metadata": {},
   "outputs": [],
   "source": [
    "l = [\"사과\", 123, 3.14]  # list\n",
    "t = (\"사과\", 123, 3.14)  # tuple\n",
    "s = {\"사과\", 123, 3.14}  # set\n",
    "d = {\"원주율\": 3.14, 123: \"일이삼\"}  # dict"
   ]
  },
  {
   "cell_type": "code",
   "execution_count": 60,
   "metadata": {},
   "outputs": [
    {
     "data": {
      "text/plain": [
       "'바나나'"
      ]
     },
     "execution_count": 60,
     "metadata": {},
     "output_type": "execute_result"
    }
   ],
   "source": [
    "# 리스트도 인덱싱과 슬라이싱이 가능합니다.\n",
    "l[0]"
   ]
  },
  {
   "cell_type": "code",
   "execution_count": 57,
   "metadata": {},
   "outputs": [
    {
     "name": "stdout",
     "output_type": "stream",
     "text": [
      "3009806272832 3009807088112\n",
      "3009806272832 3009807086288\n"
     ]
    },
    {
     "data": {
      "text/plain": [
       "'바나나'"
      ]
     },
     "execution_count": 57,
     "metadata": {},
     "output_type": "execute_result"
    }
   ],
   "source": [
    "# 리스트 자체는 가변 (아이템 객체의 가변성은 별도입니다.)\n",
    "\n",
    "print(id(l), id(l[0]))\n",
    "\n",
    "l[0] = \"바나나\"\n",
    "\n",
    "print(id(l), id(l[0]))\n",
    "\n",
    "l[0]"
   ]
  },
  {
   "cell_type": "code",
   "execution_count": 52,
   "metadata": {},
   "outputs": [
    {
     "data": {
      "text/plain": [
       "3009806272832"
      ]
     },
     "execution_count": 52,
     "metadata": {},
     "output_type": "execute_result"
    }
   ],
   "source": [
    "id(l)"
   ]
  },
  {
   "cell_type": "code",
   "execution_count": null,
   "metadata": {},
   "outputs": [],
   "source": [
    "# 튜플은 불변\n",
    "t[0] = \"바나나\""
   ]
  },
  {
   "cell_type": "code",
   "execution_count": 46,
   "metadata": {},
   "outputs": [
    {
     "data": {
      "text/plain": [
       "3.14"
      ]
     },
     "execution_count": 46,
     "metadata": {},
     "output_type": "execute_result"
    }
   ],
   "source": [
    "# 사전은 키를 이용해서 값을 찾을 수 있습니다.\n",
    "d[\"원주율\"]"
   ]
  },
  {
   "cell_type": "markdown",
   "metadata": {},
   "source": [
    "# [리스트](https://docs.python.org/ko/3/tutorial/introduction.html#lists) 사용법 ([List](https://docs.python.org/3/tutorial/introduction.html#lists))\n",
    "\n",
    "### 리스트를 만드는 방법\n",
    "리스트는 대괄호(square brackets [])으로 만들어지고 컴마(comma ,) 기호를 이용해서 아이템(item)을 구분합니다."
   ]
  },
  {
   "cell_type": "code",
   "execution_count": 61,
   "metadata": {},
   "outputs": [],
   "source": [
    "my_list = []  # 비어있는 리스트\n",
    "my_list = [1, 2, 3, 4, 5] # 아이템 나열\n",
    "my_list = [\"A string\", 23, 100.232, \"o\"] # 다양한 자료형의 객체들을 담을 수 있어요\n",
    "my_list = [x + 100 for x in range(1, 11)] # 아이템들의 조건을 기술"
   ]
  },
  {
   "cell_type": "code",
   "execution_count": 3,
   "metadata": {},
   "outputs": [
    {
     "data": {
      "text/plain": [
       "4"
      ]
     },
     "execution_count": 3,
     "metadata": {},
     "output_type": "execute_result"
    }
   ],
   "source": [
    "# 아이템 개수\n",
    "len(my_list)"
   ]
  },
  {
   "cell_type": "markdown",
   "metadata": {},
   "source": [
    "### 리스트는 가변(Mutable)\n",
    "\n",
    "리스트는 문자열과 달리 가변(mutable) 자료형입니다."
   ]
  },
  {
   "cell_type": "code",
   "execution_count": 87,
   "metadata": {},
   "outputs": [
    {
     "data": {
      "text/plain": [
       "'하나'"
      ]
     },
     "execution_count": 87,
     "metadata": {},
     "output_type": "execute_result"
    }
   ],
   "source": [
    "my_list = [\"하나\", \"two\", 3, 4.0]\n",
    "\n",
    "# 리스트에서도 인덱싱을 사용할 수 있습니다.\n",
    "my_list[0]"
   ]
  },
  {
   "cell_type": "code",
   "execution_count": 66,
   "metadata": {},
   "outputs": [
    {
     "data": {
      "text/plain": [
       "['two', 3, 4.0]"
      ]
     },
     "execution_count": 66,
     "metadata": {},
     "output_type": "execute_result"
    }
   ],
   "source": [
    "# 슬라이싱 규칙은 문자열과 같아요\n",
    "my_list[1:]"
   ]
  },
  {
   "cell_type": "code",
   "execution_count": 80,
   "metadata": {},
   "outputs": [
    {
     "name": "stdout",
     "output_type": "stream",
     "text": [
      "3009807118720\n",
      "3009807118720\n"
     ]
    }
   ],
   "source": [
    "# 리스트는 가변(mutable) 자료형\n",
    "\n",
    "print(id(my_list))\n",
    "\n",
    "my_list[0] = \"하나 아이템\"\n",
    "\n",
    "print(id(my_list))"
   ]
  },
  {
   "cell_type": "code",
   "execution_count": 94,
   "metadata": {},
   "outputs": [
    {
     "name": "stdout",
     "output_type": "stream",
     "text": [
      "3009807177664\n",
      "3009807177664\n"
     ]
    },
    {
     "data": {
      "text/plain": [
       "[0, 'A', 'B', 'C', 3, 4, 5]"
      ]
     },
     "execution_count": 94,
     "metadata": {},
     "output_type": "execute_result"
    }
   ],
   "source": [
    "# 슬라이싱으로도 대입이 가능해요\n",
    "\n",
    "my_list = [0, 1, 2, 3, 4, 5]\n",
    "\n",
    "print(id(my_list))\n",
    "\n",
    "my_list[1:3] = [\"A\", \"B\", \"C\"]\n",
    "\n",
    "print(id(my_list))\n",
    "\n",
    "my_list"
   ]
  },
  {
   "cell_type": "code",
   "execution_count": 72,
   "metadata": {},
   "outputs": [
    {
     "data": {
      "text/plain": [
       "['하나', 'two', 3, 4.0, '추가된 아이템']"
      ]
     },
     "execution_count": 72,
     "metadata": {},
     "output_type": "execute_result"
    }
   ],
   "source": [
    "# 더하기 연산자로 아이템 추가 (주의: 리스트 끼리만 연산)\n",
    "my_list + [\"추가된 아이템\"]"
   ]
  },
  {
   "cell_type": "code",
   "execution_count": 70,
   "metadata": {},
   "outputs": [
    {
     "data": {
      "text/plain": [
       "['하나', 'two', 3, 4.0]"
      ]
     },
     "execution_count": 70,
     "metadata": {},
     "output_type": "execute_result"
    }
   ],
   "source": [
    "# 원래 리스트에는 변화가 없음\n",
    "my_list"
   ]
  },
  {
   "cell_type": "code",
   "execution_count": 73,
   "metadata": {},
   "outputs": [
    {
     "name": "stdout",
     "output_type": "stream",
     "text": [
      "3009807142528\n",
      "3009807145536\n"
     ]
    }
   ],
   "source": [
    "print(id(my_list))\n",
    "\n",
    "my_list = my_list + [\"아이템을 추가하면 ID가 달라질까요?\"]\n",
    "\n",
    "print(id(my_list))"
   ]
  },
  {
   "cell_type": "code",
   "execution_count": 74,
   "metadata": {},
   "outputs": [
    {
     "name": "stdout",
     "output_type": "stream",
     "text": [
      "3009807145536\n",
      "3009807145536\n"
     ]
    }
   ],
   "source": [
    "print(id(my_list))\n",
    "\n",
    "my_list += [\"아이템을 추가하면 ID가 달라질까요?\"]\n",
    "\n",
    "print(id(my_list))  # id가 달라지지 않는다."
   ]
  },
  {
   "cell_type": "code",
   "execution_count": 75,
   "metadata": {},
   "outputs": [
    {
     "name": "stdout",
     "output_type": "stream",
     "text": [
      "3009807145536\n",
      "3009807176064\n"
     ]
    }
   ],
   "source": [
    "print(id(my_list))\n",
    "\n",
    "my_list = my_list * 2  # duplicate list\n",
    "\n",
    "print(id(my_list))\n"
   ]
  },
  {
   "cell_type": "code",
   "execution_count": 84,
   "metadata": {},
   "outputs": [
    {
     "name": "stdout",
     "output_type": "stream",
     "text": [
      "3009807118720\n",
      "3009807118720\n"
     ]
    }
   ],
   "source": [
    "print(id(my_list))\n",
    "\n",
    "my_list *= 2  # duplicate list\n",
    "\n",
    "print(id(my_list))"
   ]
  },
  {
   "cell_type": "markdown",
   "metadata": {},
   "source": [
    "### 기본적인 메써드\n",
    "문자열은 변경을 하려면 새로운 객체를 만들어야 했습니다.  \n",
    "리스트는 가변 자료형이기 때문에 객체를 유지한 채로 내용을 바꿀 수 있어요."
   ]
  },
  {
   "cell_type": "code",
   "execution_count": 127,
   "metadata": {},
   "outputs": [
    {
     "name": "stdout",
     "output_type": "stream",
     "text": [
      "3009776989696\n",
      "3009776989696\n"
     ]
    },
    {
     "data": {
      "text/plain": [
       "[1, 2, 3, 'append me!']"
      ]
     },
     "execution_count": 127,
     "metadata": {},
     "output_type": "execute_result"
    }
   ],
   "source": [
    "my_list = [1, 2, 3]\n",
    "\n",
    "print(id(my_list))\n",
    "\n",
    "# append() 메써드를 이용하면 새로운 아이템을 추가할 수 있어요\n",
    "my_list.append(\"새로운 아이템 추가!\")\n",
    "\n",
    "print(id(my_list)) # id가 변할까요?\n",
    "\n",
    "my_list"
   ]
  },
  {
   "cell_type": "code",
   "execution_count": 130,
   "metadata": {},
   "outputs": [],
   "source": [
    "my_list = [1, 2, 3]\n",
    "\n",
    "# 이렇게 하면 새로운 객체를 만들어줄까?\n",
    "new_list = my_list.append(\"새로운 아이템 추가!\")\n",
    "\n",
    "new_list"
   ]
  },
  {
   "cell_type": "code",
   "execution_count": 117,
   "metadata": {},
   "outputs": [
    {
     "name": "stdout",
     "output_type": "stream",
     "text": [
      "팝: 1\n",
      "리스트: [2, 3]\n"
     ]
    }
   ],
   "source": [
    "my_list = [1, 2, 3]\n",
    "\n",
    "# pop() 메써드를 사용하면 원하는 위치에서 아이템 하나를 가져오면서 삭제합니다.\n",
    "p = my_list.pop(0)  \n",
    "\n",
    "print(\"팝:\", p)\n",
    "print(\"리스트:\", my_list)"
   ]
  },
  {
   "cell_type": "code",
   "execution_count": 131,
   "metadata": {},
   "outputs": [
    {
     "data": {
      "text/plain": [
       "['E', 'D', 'C', 'B', 'A']"
      ]
     },
     "execution_count": 131,
     "metadata": {},
     "output_type": "execute_result"
    }
   ],
   "source": [
    "my_list = [\"A\", \"B\", \"C\", \"D\", \"E\"]\n",
    "\n",
    "# reverse() 메써드 사용\n",
    "my_list.reverse()\n",
    "\n",
    "my_list"
   ]
  },
  {
   "cell_type": "code",
   "execution_count": 121,
   "metadata": {},
   "outputs": [],
   "source": [
    "my_list = [\"A\", \"B\", \"C\", \"D\", \"E\"]\n",
    "\n",
    "# 만약 reverse() 함수의 결과를 다른 변수로 받는다면?\n",
    "new_list = my_list.reverse()\n",
    "\n",
    "# 확인해봅시다."
   ]
  },
  {
   "cell_type": "code",
   "execution_count": null,
   "metadata": {},
   "outputs": [],
   "source": [
    "# 만약 reverse 된 새로운 리스트를 만들고 싶다면?\n",
    "my_list = [\"A\", \"B\", \"C\", \"D\", \"E\"]\n",
    "\n",
    "# 슬라이싱을 이용해보세요.\n",
    "# my_list = ???"
   ]
  },
  {
   "cell_type": "code",
   "execution_count": 124,
   "metadata": {},
   "outputs": [
    {
     "data": {
      "text/plain": [
       "[1, 1, 2, 3, 4, 5, 9]"
      ]
     },
     "execution_count": 124,
     "metadata": {},
     "output_type": "execute_result"
    }
   ],
   "source": [
    "my_list = [3, 1, 4, 1, 5, 9, 2]\n",
    "\n",
    "# 정렬 sort() 메써드 사용\n",
    "my_list.sort()\n",
    "my_list"
   ]
  },
  {
   "cell_type": "code",
   "execution_count": 125,
   "metadata": {},
   "outputs": [
    {
     "data": {
      "text/plain": [
       "['Apple', 'Beyond', 'Python', 'apple', 'compilers', 'hello']"
      ]
     },
     "execution_count": 125,
     "metadata": {},
     "output_type": "execute_result"
    }
   ],
   "source": [
    "my_list = ['Python', \"Beyond\", \"hello\", \"compilers\", \"apple\", \"Apple\"]\n",
    "\n",
    "# 문자열을 정렬한다면?\n",
    "my_list.sort()\n",
    "my_list"
   ]
  },
  {
   "cell_type": "markdown",
   "metadata": {},
   "source": [
    "이 외에도 다양한 메써드들이 제공됩니다. 어떤 기능을 하는지 추측해보세요."
   ]
  },
  {
   "cell_type": "code",
   "execution_count": null,
   "metadata": {},
   "outputs": [],
   "source": [
    "my_list = [3, 1, 4, 1, 5, 9, 2]\n",
    "\n",
    "my_list.clear()"
   ]
  },
  {
   "cell_type": "code",
   "execution_count": null,
   "metadata": {},
   "outputs": [],
   "source": [
    "my_list = [\"내가\", \"몇개\", \"몇개\", \"몇개\", \"몇개\", \"있을까?\"]\n",
    "\n",
    "my_list.count(\"몇개\")"
   ]
  },
  {
   "cell_type": "code",
   "execution_count": null,
   "metadata": {},
   "outputs": [],
   "source": [
    "my_list = [1, 2, 3]\n",
    "list_to_add = [4, 5, 6]\n",
    "\n",
    "my_list.extend(list_to_add)"
   ]
  },
  {
   "cell_type": "code",
   "execution_count": null,
   "metadata": {},
   "outputs": [],
   "source": [
    "my_list = [\"내가\", \"몇개\", \"몇개\", \"몇개\", \"몇개\", \"있을까?\"]\n",
    "\n",
    "my_list.index(\"있을까?\")"
   ]
  },
  {
   "cell_type": "code",
   "execution_count": null,
   "metadata": {},
   "outputs": [],
   "source": [
    "my_list = [\"내가\", \"몇개\", \"몇개\", \"몇개\", \"몇개\", \"있을까?\"]\n",
    "\n",
    "my_list.remove(\"몇개\")"
   ]
  },
  {
   "cell_type": "code",
   "execution_count": null,
   "metadata": {},
   "outputs": [],
   "source": [
    "my_list = [\"A\", \"B\", \"D\", \"E\"]\n",
    "\n",
    "my_list.insert(2, \"C\")"
   ]
  },
  {
   "cell_type": "markdown",
   "metadata": {},
   "source": [
    "정답은 [여기](https://www.w3schools.com/python/python_ref_list.asp)를 참고하시거나 검색해보세요."
   ]
  },
  {
   "cell_type": "markdown",
   "metadata": {},
   "source": [
    "### 중첩 리스트 (Nested List)"
   ]
  },
  {
   "cell_type": "markdown",
   "metadata": {},
   "source": [
    "리스트 안에 리스트를 넣을 수도 있습니다."
   ]
  },
  {
   "cell_type": "code",
   "execution_count": 167,
   "metadata": {},
   "outputs": [],
   "source": [
    "my_list = [[\"Hello\", 1, 2], 3, 4, [5, \"Apple\"]]"
   ]
  },
  {
   "cell_type": "code",
   "execution_count": 169,
   "metadata": {},
   "outputs": [
    {
     "data": {
      "text/plain": [
       "(['Hello', 1, 2], list)"
      ]
     },
     "execution_count": 169,
     "metadata": {},
     "output_type": "execute_result"
    }
   ],
   "source": [
    "# 중첩 리스트의 인덱싱\n",
    "my_list[0], type(my_list[0])"
   ]
  },
  {
   "cell_type": "code",
   "execution_count": 170,
   "metadata": {},
   "outputs": [
    {
     "data": {
      "text/plain": [
       "'Hello'"
      ]
     },
     "execution_count": 170,
     "metadata": {},
     "output_type": "execute_result"
    }
   ],
   "source": [
    "my_list[0][0]"
   ]
  },
  {
   "cell_type": "code",
   "execution_count": 171,
   "metadata": {},
   "outputs": [
    {
     "data": {
      "text/plain": [
       "[[1, 2, 3], [4, 5, 6], [7, 8, 9]]"
      ]
     },
     "execution_count": 171,
     "metadata": {},
     "output_type": "execute_result"
    }
   ],
   "source": [
    "# Let's make three lists\n",
    "l0 = [1, 2, 3]\n",
    "l1 = [4, 5, 6]\n",
    "l2 = [7, 8, 9]\n",
    "\n",
    "# Make a list of lists to form a matrix\n",
    "matrix = [l0, l1, l2]\n",
    "matrix"
   ]
  },
  {
   "cell_type": "code",
   "execution_count": 32,
   "metadata": {},
   "outputs": [
    {
     "data": {
      "text/plain": [
       "[1, 2, 3]"
      ]
     },
     "execution_count": 32,
     "metadata": {},
     "output_type": "execute_result"
    }
   ],
   "source": [
    "matrix[0]"
   ]
  },
  {
   "cell_type": "code",
   "execution_count": 172,
   "metadata": {},
   "outputs": [
    {
     "data": {
      "text/plain": [
       "1"
      ]
     },
     "execution_count": 172,
     "metadata": {},
     "output_type": "execute_result"
    }
   ],
   "source": [
    "matrix[0][0]"
   ]
  },
  {
   "cell_type": "markdown",
   "metadata": {},
   "source": [
    "가변 컨테이너에 가변 객체를 넣을 때는 주의해야 합니다."
   ]
  },
  {
   "cell_type": "code",
   "execution_count": 142,
   "metadata": {},
   "outputs": [
    {
     "name": "stdout",
     "output_type": "stream",
     "text": [
      "3009776692608 3009806292224\n",
      "3009807260720 3009807260720\n"
     ]
    }
   ],
   "source": [
    "my_list = [\"Hello\", 2, 3, 4, 5]\n",
    "\n",
    "# 동일하지만 새로운 리스트 객체를 만들어줍니다.\n",
    "new_list = my_list.copy()\n",
    "\n",
    "id(my_list), id(new_list) # 리스트 자체는 새로 만들어졌어요"
   ]
  },
  {
   "cell_type": "code",
   "execution_count": 144,
   "metadata": {},
   "outputs": [
    {
     "data": {
      "text/plain": [
       "(3009807260720, 3009807260720)"
      ]
     },
     "execution_count": 144,
     "metadata": {},
     "output_type": "execute_result"
    }
   ],
   "source": [
    "id(my_list[0]), id(new_list[0]) # 그러나 원소들은?"
   ]
  },
  {
   "cell_type": "code",
   "execution_count": 145,
   "metadata": {},
   "outputs": [
    {
     "data": {
      "text/plain": [
       "('New Hello', 'Hello')"
      ]
     },
     "execution_count": 145,
     "metadata": {},
     "output_type": "execute_result"
    }
   ],
   "source": [
    "# 불변 객체를 바꿔줄 경우\n",
    "my_list[0] = \"New Hello\"\n",
    "\n",
    "my_list[0], new_list[0]"
   ]
  },
  {
   "cell_type": "code",
   "execution_count": 164,
   "metadata": {},
   "outputs": [
    {
     "data": {
      "text/plain": [
       "([['Hello'], [1, 2, 3]], [['Hello'], [1, 2, 3]])"
      ]
     },
     "execution_count": 164,
     "metadata": {},
     "output_type": "execute_result"
    }
   ],
   "source": [
    "# 리스트 안에 가변 객체를 넣었습니다.\n",
    "my_list = [[\"Hello\"], [1, 2, 3]]\n",
    "\n",
    "# 동일하지만 새로운 리스트 객체를 만들어줍니다.\n",
    "new_list = my_list.copy()\n",
    "\n",
    "id(new_list), id(my_list)\n",
    "my_list, new_list"
   ]
  },
  {
   "cell_type": "code",
   "execution_count": 165,
   "metadata": {},
   "outputs": [
    {
     "data": {
      "text/plain": [
       "([['Hell'], [1024, 2, 3]], [['Hell'], [1024, 2, 3]])"
      ]
     },
     "execution_count": 165,
     "metadata": {},
     "output_type": "execute_result"
    }
   ],
   "source": [
    "# 새로운 리스트의 아이템만 수정하려고 시도\n",
    "new_list[0][0] = \"Hell\"\n",
    "\n",
    "new_list[1][0] = 1024\n",
    "\n",
    "# 그러나?\n",
    "my_list, new_list"
   ]
  },
  {
   "cell_type": "markdown",
   "metadata": {},
   "source": [
    "### [리스트 컴프리헨션](https://docs.python.org/ko/3/tutorial/datastructures.html#list-comprehensions)([List Comprehensions](https://docs.python.org/3/tutorial/datastructures.html#list-comprehensions))\n",
    "\n",
    "리스트를 만들 때 아이템들을 하나하나 나열하는 대신 조건만 적어줍니다."
   ]
  },
  {
   "cell_type": "markdown",
   "metadata": {},
   "source": [
    "[참고] 여기에 **컴프리헨션([comprehension](https://www.google.com/search?q=meaning+of+comprehension&rlz=1C1RXQR_koUS982US982&oq=meaning+of+comprehension&aqs=chrome..69i57j0i512l9.3447j1j7&sourceid=chrome&ie=UTF-8))** 이란 용어는 수학의 집합론에서 유래되었습니다. 집합을 정의할때 원소들을 하나하나 나열하는 [원소나열법](https://terms.naver.com/entry.naver?docId=3338034&ref=y&cid=47324&categoryId=47324)과 달리 원소가 될 수 있는 조건을 제시한다는 점에서 [조건제시법](https://terms.naver.com/entry.naver?docId=3338049&cid=47324&categoryId=47324)으로 부르기도 합니다. 단어 자체도 이해한다는 의미 외에 포함시킨다는 의미도 함께 갖고 있습니다. 더 자세한 내용은 [list comprehension](https://en.wikipedia.org/wiki/List_comprehension), [Set-builder-notation](https://en.wikipedia.org/wiki/Set-builder_notation), [스택오버플로우 답변](https://stackoverflow.com/questions/1903980/why-list-comprehension-is-called-so-in-python) 등을 참고하세요."
   ]
  },
  {
   "cell_type": "code",
   "execution_count": 175,
   "metadata": {},
   "outputs": [
    {
     "data": {
      "text/plain": [
       "[1, 4, 9, 16, 25, 36, 49, 64, 81, 100]"
      ]
     },
     "execution_count": 175,
     "metadata": {},
     "output_type": "execute_result"
    }
   ],
   "source": [
    "my_list = [x ** 2 for x in range(1, 11)]\n",
    "\n",
    "my_list"
   ]
  },
  {
   "cell_type": "code",
   "execution_count": 177,
   "metadata": {},
   "outputs": [
    {
     "data": {
      "text/plain": [
       "[1, 4, 7]"
      ]
     },
     "execution_count": 177,
     "metadata": {},
     "output_type": "execute_result"
    }
   ],
   "source": [
    "matrix = [[1, 2, 3], [4, 5, 6], [7, 8, 9]]\n",
    "first_items = [nexted_list[0] for nexted_list in matrix]\n",
    "\n",
    "first_items"
   ]
  },
  {
   "cell_type": "markdown",
   "metadata": {},
   "source": [
    "리스트 컴프리헨션을 중첩해서 사용할 수도 있습니다."
   ]
  },
  {
   "cell_type": "code",
   "execution_count": 183,
   "metadata": {},
   "outputs": [
    {
     "data": {
      "text/plain": [
       "[0, 1, 16, 81, 256, 625, 1296, 2401, 4096, 6561, 10000]"
      ]
     },
     "execution_count": 183,
     "metadata": {},
     "output_type": "execute_result"
    }
   ],
   "source": [
    "[x ** 2 for x in [x ** 2 for x in range(11)]]"
   ]
  },
  {
   "cell_type": "markdown",
   "metadata": {},
   "source": [
    "조건문과 함께 사용할 수도 있습니다."
   ]
  },
  {
   "cell_type": "code",
   "execution_count": 181,
   "metadata": {},
   "outputs": [
    {
     "data": {
      "text/plain": [
       "[0, 2, 4, 6, 8, 10]"
      ]
     },
     "execution_count": 181,
     "metadata": {},
     "output_type": "execute_result"
    }
   ],
   "source": [
    "even_numbers = [x for x in range(11) if x % 2 == 0]\n",
    "\n",
    "even_numbers"
   ]
  },
  {
   "cell_type": "markdown",
   "metadata": {},
   "source": [
    "[실습]  주어진 섭씨 온도(Celsius)의 리스트를 화씨(Fahrenheit) 온도의 리스트로 변경\n",
    "\n",
    "$화씨온도 = 섭씨온도 \\times {9}/{5} + 32$\n",
    "\n",
    "> 예상 결과: ```[32.0, 50.0, 77.0, 86.9]```"
   ]
  },
  {
   "cell_type": "code",
   "execution_count": null,
   "metadata": {},
   "outputs": [],
   "source": [
    "celsius = [0, 10, 25, 30.5]\n"
   ]
  },
  {
   "cell_type": "markdown",
   "metadata": {},
   "source": [
    "[실습] 1 부터 10까지의 정수 중에서 짝수의 제곱만 리스트로 만드세요\n",
    "\n",
    "> 예상 결과: ```[4, 16, 36, 64, 100]```"
   ]
  },
  {
   "cell_type": "code",
   "execution_count": null,
   "metadata": {},
   "outputs": [],
   "source": []
  },
  {
   "cell_type": "markdown",
   "metadata": {},
   "source": [
    "[실습] 주어진 문자열의 리스트에서 소문자 a가 들어 있는 단어들만 모두 대문자로 바꿔서 리스트를 만드세요.\n",
    "> 예상 결과: ```['BANANA', 'CRASH', 'MATHEMATICS']```"
   ]
  },
  {
   "cell_type": "code",
   "execution_count": null,
   "metadata": {},
   "outputs": [],
   "source": [
    "list = ['hello', 'Apple', 'banana', 'Cherry', 'crash', 'mathematics']\n"
   ]
  }
 ],
 "metadata": {
  "interpreter": {
   "hash": "d187a48a8a4b28f37103ceb7e85bceb2b63d70db7314890fe18e7e16ec425e3f"
  },
  "kernelspec": {
   "display_name": "Python 3.9.7 64-bit ('base': conda)",
   "language": "python",
   "name": "python3"
  },
  "language_info": {
   "codemirror_mode": {
    "name": "ipython",
    "version": 3
   },
   "file_extension": ".py",
   "mimetype": "text/x-python",
   "name": "python",
   "nbconvert_exporter": "python",
   "pygments_lexer": "ipython3",
   "version": "3.9.5"
  },
  "orig_nbformat": 4
 },
 "nbformat": 4,
 "nbformat_minor": 2
}
