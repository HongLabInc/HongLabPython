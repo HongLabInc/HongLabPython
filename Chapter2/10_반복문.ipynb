{
 "cells": [
  {
   "cell_type": "markdown",
   "metadata": {},
   "source": [
    "___\n",
    "<a href='https://cafe.naver.com/jmhonglab'><img src='https://lh3.googleusercontent.com/lY3ySXooSmwsq5r-mRi7uiypbo0Vez6pmNoQxMFhl9fmZJkRHu5lO2vo7se_0YOzgmDyJif9fi4_z0o3ZFdwd8NVSWG6Ea80uWaf3pOHpR4GHGDV7kaFeuHR3yAjIJjDgfXMxsvw=w2400'/></a>\n",
    "___\n",
    "<center><em>Content Copyright by HongLab, Inc.</em></center>"
   ]
  },
  {
   "cell_type": "markdown",
   "metadata": {},
   "source": [
    "# 반복문\n",
    "\n",
    "프로그램의 흐름제어(flow control) 중에서 반복하는 방법에 대해서 알아보겠습니다.\n",
    "반복을 의미하는 영어 단어로는 repeat과 iterate가 있는데 프로그래밍에서는 단순하게 그대로 반복만하는 것(repeat) 보다는 약간씩 변화를 주는 경우가 일반적이기 때문에 repeat보다는 **iterate**를 많이 사용합니다. 한 바퀴 돌아와서 다시 시작한다는 의미로 루프(loop)를 만든다고 표현하기도 합니다.\n",
    "\n",
    "먼저 반복(iteration)에 대해서 감을 잡아봅시다. 만약 우리가 \"안녕하세요?\"를 3번 출력하고 싶다면 가장 단순한 방법은 명령문을 3번 반복해서 적어주는 것입니다."
   ]
  },
  {
   "cell_type": "code",
   "execution_count": null,
   "metadata": {},
   "outputs": [],
   "source": [
    "# 명령문을 여러번 입력해서 반복하기\n",
    "print(\"안녕하세요?\")\n",
    "print(\"안녕하세요?\")\n",
    "print(\"안녕하세요?\")"
   ]
  },
  {
   "cell_type": "markdown",
   "metadata": {},
   "source": [
    "그런데 만약 3번이 아니라 천번이나 만번이라면? 컴퓨터 입장에서 같은 작업을 천번 만번 반복하는 것은 별 것 아니지만 프로그래머 입장에서 같은 코드를 천번 만번 반복해서 적어줘야 한다면 복사붙여넣기를 활용한다고 하더라도 \"내가 왜 이걸 하고 있지?\"라는 허무감이 들겁니다. 반복 입력이 비효율적인 또 다른 사례로는 반복 횟수가 미리 정해져 있지 않은 경우입니다. 예를 들어서 몇 번 반복할지를 사용자로부터 입력받는다면 어떻게 해야 할까요? 게다가 매번 다른 문구를 출력해야 한다면? 이런 다양한 흐름들을 효율적으로 구현하기 위해 반복문을 사용합니다.\n",
    "\n",
    "\n",
    "여러번 반복되는 루프(loop)를 만드는 방법은 ```for```과 ```while``` 두 가지가 있습니다. ```for```문과 ```while```문은 이론상으로는 서로 호환이 가능하지만 실제로는 용도가 약간 다릅니다.\n",
    "> ```for```문: 반복을 시작하기 전에 반복의 범위가 미리 결정되어있는 경우에 많이 사용합니다.  \n",
    "> ```while```문: 언제까지 반복을 해야하는 지에 대해 명확한 범위 대신 종료 조건으로 주어진 경우에 많이 사용합니다.  "
   ]
  },
  {
   "cell_type": "markdown",
   "metadata": {},
   "source": [
    "일단 ```for```문과 ```while```문의 차이점 위주로 훑어봅시다."
   ]
  },
  {
   "cell_type": "code",
   "execution_count": null,
   "metadata": {},
   "outputs": [],
   "source": [
    "# 반복 횟수를 사용자로부터 입력받아서 for 문으로 반복하기\n",
    "repeat = int(input(\"인사를 몇 번 할까요?\"))\n",
    "\n",
    "for _ in range(repeat): # range를 이용해서 반복 범위를 미리 결정합니다.\n",
    "    print(\"안녕하세요?\")\n",
    "\n",
    "# _는 튜플에서 배웠습니다."
   ]
  },
  {
   "cell_type": "code",
   "execution_count": null,
   "metadata": {},
   "outputs": [],
   "source": [
    "# 같은 문제에 대해 while 문 사용\n",
    "repeat = int(input(\"인사를 몇 번 할까요?\"))\n",
    "\n",
    "i = 0\n",
    "while i < repeat:  # 종료 조건을 지정해줍니다.\n",
    "    print(\"안녕하세요?\")\n",
    "    i += 1"
   ]
  },
  {
   "cell_type": "markdown",
   "metadata": {},
   "source": [
    "반복이 진행되면서 약간씩 변화를 주는 경우에 대해서도 생각해봅시다. 예를 들어서 첫번째는 한 번 출력, 두번째는 두 번 출력, ... 과 같이 출력 횟수를 늘려봅시다."
   ]
  },
  {
   "cell_type": "code",
   "execution_count": null,
   "metadata": {},
   "outputs": [],
   "source": [
    "# for문 사용 예제\n",
    "repeat = int(input(\"인사를 몇 번 할까요?\"))\n",
    "\n",
    "for i in range(repeat):  # 여기서는 i가 꼭 필요합니다.\n",
    "    print(\"안녕하세요?\" * (i + 1))"
   ]
  },
  {
   "cell_type": "code",
   "execution_count": null,
   "metadata": {},
   "outputs": [],
   "source": [
    "# while문 사용 예제\n",
    "repeat = int(input(\"인사를 몇 번 할까요?\"))\n",
    "\n",
    "i = 0\n",
    "while i < repeat:  # 종료 조건을 지정해줍니다.\n",
    "    print(\"안녕하세요?\" * (i + 1))\n",
    "    i += 1"
   ]
  },
  {
   "cell_type": "markdown",
   "metadata": {},
   "source": [
    "\n",
    "보통 ```for```문이 여러가지 컨테이너 객체들과 함께 사용하기 편리하지만 ```while```문 특유의 용법들도 있기 때문에 둘 다 알아두셔야 합니다."
   ]
  },
  {
   "cell_type": "markdown",
   "metadata": {},
   "source": [
    "# [반복문 ```for```](https://docs.python.org/3/reference/compound_stmts.html#the-for-statement)\n",
    "\n"
   ]
  },
  {
   "cell_type": "markdown",
   "metadata": {},
   "source": [
    "### ```for```문의 일반적인 형태\n",
    "\n",
    "```for```문의 간단한 용법들은 앞에서 많이 봤기 때문에 여기서는 일반적인 형태를 먼저 살펴보겠습니다.\n",
    "\n",
    "```\n",
    "for 대상-아이템 in 이터러블-객체:\n",
    "    반복할 명령문들\n",
    "else:\n",
    "    반복이 (break없이) 끝나면 실행될 명령문들\n",
    "```\n",
    "\n",
    "여기서 ```in```과 ```:``` 사이에는 반복에 사용할 수 있는(**iterable, 이터러블**) 객체가 들어갈 수 있습니다. 예를 들어서 int나 float같은 숫자 자료형들의 객체는 들어갈 수 없고 list나 tuple같은 컨테이너형의 객체들은 들어갈 수 있습니다. 앞에서 종종 봤었던 range() 함수가 만들어주는 range형의 객체도 사용할 수 있습니다."
   ]
  },
  {
   "cell_type": "code",
   "execution_count": null,
   "metadata": {},
   "outputs": [],
   "source": [
    "# 어떤 객체가 iterable 한지 확인하는 방법\n",
    "from collections.abc import Iterable\n",
    "\n",
    "isinstance(1, Iterable), isinstance([1, 2, 3], Iterable), isinstance(range(3), Iterable)"
   ]
  },
  {
   "cell_type": "markdown",
   "metadata": {},
   "source": [
    "```대상```(target)은 매번 반복할 때마다 이터러블(iterable)의 아이템들을 하나씩 들어옵니다. 다른 변수들과 동일한 방법으로 사용할 수 있으며 이름도 변수명 규칙에 따라 마음대로 지을 수 있습니다. "
   ]
  },
  {
   "cell_type": "code",
   "execution_count": null,
   "metadata": {},
   "outputs": [],
   "source": [
    "# for 예시\n",
    "for i in [1, 2, 3]:\n",
    "    j = i * 10  # i에는 1, 2, 3이 순서대로 들어옵니다.\n",
    "    print(j)"
   ]
  },
  {
   "cell_type": "markdown",
   "metadata": {},
   "source": [
    "\n",
    "```else```-절은 ```if```문에서도 그랬듯이 필수는 아니며 ```for``` 루프가 정상적으로 실행이 완료되었을 때만 실행됩니다. 만약 ```break``` 명령을 이용해서 ```for```루프가 일찍 종료되었을 때는 실행되지 않습니다. 이 경우는 ```break``` 사용법과 함께 다시 보겠습니다."
   ]
  },
  {
   "cell_type": "code",
   "execution_count": null,
   "metadata": {},
   "outputs": [],
   "source": [
    "# for-else 예시\n",
    "for i in [1, 2, 3]:\n",
    "    j = i * 10\n",
    "    print(j)\n",
    "else:\n",
    "    print(\"끝났어요\")"
   ]
  },
  {
   "cell_type": "markdown",
   "metadata": {},
   "source": [
    "### 범위(range) 사용법\n",
    "\n",
    "```range()``` 함수를 이용해서 정수 범위(range)를 만들어낼 수 있습니다. 보통 ```for```문과 함께 사용됩니다."
   ]
  },
  {
   "cell_type": "code",
   "execution_count": null,
   "metadata": {},
   "outputs": [],
   "source": [
    "type(range(5))"
   ]
  },
  {
   "cell_type": "markdown",
   "metadata": {},
   "source": [
    "괄호 안에 3가지의 매개변수를 넣어서 범위를 조절할 수 있습니다.\n",
    "\n",
    "```range(시작, 종료, 스텝)```\n",
    "\n",
    "시작, 종료, 스텝의 의미는 슬라이싱과 비슷하지만 함수 괄호 안에서는 컴마(```,```)로 구분합니다."
   ]
  },
  {
   "cell_type": "markdown",
   "metadata": {},
   "source": [
    "[보충] ```print()``` 함수는 기본적으로 출력 후에 줄바꿈을 덧붙여줍니다. ```end=\" \"```를 사용하면 줄바꿈을 빈 칸 하나로 바꿔주기 때문에 한 줄에 여러번 출력을 할 수 있습니다."
   ]
  },
  {
   "cell_type": "code",
   "execution_count": null,
   "metadata": {},
   "outputs": [],
   "source": [
    "# 괄호 안에 숫자를 하나만 넣으면 종료입니다.\n",
    "# 이때 시작은 0, 스텝은 1로 간주합니다.\n",
    "for i in range(5):\n",
    "    print(i, end=\" \")"
   ]
  },
  {
   "cell_type": "code",
   "execution_count": null,
   "metadata": {},
   "outputs": [],
   "source": [
    "# 괄호 안에 숫자를 두 개 넣으면 시작과 종료입니다.\n",
    "# 스텝을 입력하지 않으면 1로 간주합니다.\n",
    "for i in range(1, 6):\n",
    "    print(i, end=\" \")"
   ]
  },
  {
   "cell_type": "code",
   "execution_count": null,
   "metadata": {},
   "outputs": [],
   "source": [
    "# 스텝을 이용하여 건너뛸 수 있습니다.\n",
    "for i in range(1, 6, 2):\n",
    "    print(i, end=\" \")"
   ]
  },
  {
   "cell_type": "code",
   "execution_count": null,
   "metadata": {},
   "outputs": [],
   "source": [
    "# 음수 스텝을 사용할 수도 있습니다.\n",
    "for i in range(5, 0, -2):\n",
    "    print(i, end=\" \")"
   ]
  },
  {
   "cell_type": "markdown",
   "metadata": {},
   "source": [
    "### 컨테이너와 함께 사용하기\n",
    "\n",
    "```for```문은 다양한 컨테이너와 함께 사용하기가 편리합니다. 리스트, 튜플, 셋 모두 손쉽게 사용할 수 있습니다. \n"
   ]
  },
  {
   "cell_type": "code",
   "execution_count": null,
   "metadata": {},
   "outputs": [],
   "source": [
    "# int는 iterable이 아니에요\n",
    "for i in 1:\n",
    "    print(i)"
   ]
  },
  {
   "cell_type": "code",
   "execution_count": null,
   "metadata": {},
   "outputs": [],
   "source": [
    "# 튜플과 함께 사용하기\n",
    "# 어떤 순서로 출력될까요?\n",
    "for i in (5, 7, 3):\n",
    "    print(i)"
   ]
  },
  {
   "cell_type": "code",
   "execution_count": null,
   "metadata": {},
   "outputs": [],
   "source": [
    "# 집합과 함께 사용하기\n",
    "# 어떤 순서로 출력될까요?\n",
    "for i in {5, 7, 3}:\n",
    "    print(i)"
   ]
  },
  {
   "cell_type": "code",
   "execution_count": null,
   "metadata": {},
   "outputs": [],
   "source": [
    "# 사전과 함께 사용하기\n",
    "for k, v in {\"원주율\": 3.141592, \"중력\": -9.8}.items():\n",
    "    print(k, v)"
   ]
  },
  {
   "cell_type": "markdown",
   "metadata": {},
   "source": [
    "```for```문 안에서 반복에 사용하는 리스트의 아이템을 바꾸려고 시도한다면 어떻게 될까요?"
   ]
  },
  {
   "cell_type": "code",
   "execution_count": null,
   "metadata": {},
   "outputs": [],
   "source": [
    "# 리스트의 아이템이 불변일 경우\n",
    "l = [1, 2, 3]\n",
    "\n",
    "for i in l:\n",
    "    i *= 10\n",
    "\n",
    "# l의 아이템들은 바뀌었을까요?\n",
    "l"
   ]
  },
  {
   "cell_type": "code",
   "execution_count": null,
   "metadata": {},
   "outputs": [],
   "source": [
    "# 리스트의 아이템이 불변일 경우\n",
    "# 이유를 조사해봅시다\n",
    "l = [1, 2, 3]\n",
    "\n",
    "print(id(l[0]), id(l[1]), id(l[2]))\n",
    "\n",
    "for i in l:\n",
    "    print(\"Before:\", id(i), i)\n",
    "    i *= 10\n",
    "    print(\"After:\", id(i), i)\n",
    "\n",
    "print(id(l[0]), id(l[1]), id(l[2]))"
   ]
  },
  {
   "cell_type": "code",
   "execution_count": null,
   "metadata": {},
   "outputs": [],
   "source": [
    "# 리스트의 아이템이 가변일 경우\n",
    "l = [[1], [2], [3]]\n",
    "for i in l:\n",
    "    i[0] *= 10\n",
    "l\n",
    "# l의 아이템들은 바뀌었을까요?\n",
    "# [[10], [20], [30]]으로 만들려면?"
   ]
  },
  {
   "cell_type": "markdown",
   "metadata": {},
   "source": [
    "```for```문 안에서 반복에 사용하는 튜플의 아이템을 바꾸려고 시도한다면 어떻게 될까요? 튜플은 불변 컨테이너입니다."
   ]
  },
  {
   "cell_type": "code",
   "execution_count": null,
   "metadata": {},
   "outputs": [],
   "source": [
    "# 튜플의 아이템이 불변일 경우\n",
    "t = (1, 2, 3)\n",
    "for i in t:\n",
    "    i *= 2\n",
    "t"
   ]
  },
  {
   "cell_type": "code",
   "execution_count": null,
   "metadata": {},
   "outputs": [],
   "source": [
    "# 튜플의 아이템이 가변일 경우\n",
    "t = ([1], [2], [3])\n",
    "for i in t:\n",
    "    i[0] *= 2\n",
    "t"
   ]
  },
  {
   "cell_type": "markdown",
   "metadata": {},
   "source": [
    "그렇다면 리스트의 불변 아이템들은 바꿀 수가 없는 걸까요?"
   ]
  },
  {
   "cell_type": "code",
   "execution_count": null,
   "metadata": {},
   "outputs": [],
   "source": [
    "# 인덱싱으로 바꿀 수 있습니다.\n",
    "l = [100, 200, 300]\n",
    "\n",
    "for i in range(len(l)):\n",
    "    l[i] *= 2\n",
    "\n",
    "l"
   ]
  },
  {
   "cell_type": "markdown",
   "metadata": {},
   "source": [
    "같은 방법을 튜플에 사용해 본다면?"
   ]
  },
  {
   "cell_type": "code",
   "execution_count": null,
   "metadata": {},
   "outputs": [],
   "source": [
    "t = (1, 2, 3)\n",
    "\n",
    "for i in range(len(t)):\n",
    "    t[i] *= 2\n",
    "t"
   ]
  },
  {
   "cell_type": "markdown",
   "metadata": {},
   "source": [
    "### 열거(Enumerate) 함수 사용법\n",
    "\n",
    "```for```문에서 아이템과 아이템의 인덱스가 함께 필요한 경우에 사용할 수 있습니다."
   ]
  },
  {
   "cell_type": "code",
   "execution_count": null,
   "metadata": {},
   "outputs": [],
   "source": [
    "l = [\"사과\", \"바나나\", \"포도\"]\n",
    "for i, v in enumerate(l):\n",
    "    print(f\"인덱스 {i}: 아이템 {v}, 인덱싱 {l[i]}\")"
   ]
  },
  {
   "cell_type": "markdown",
   "metadata": {},
   "source": [
    "### ```if```문과 함께 사용\n",
    "\n",
    "반복문 안에서 ```if```문을 사용할 수 있습니다. (당연히 ```if```문 안에서 ```for```문을 사용할 수도 있겠지요.)"
   ]
  },
  {
   "cell_type": "code",
   "execution_count": null,
   "metadata": {},
   "outputs": [],
   "source": [
    "# 정수라면 그냥 range 사용 가능\n",
    "for num in range(6):\n",
    "    if num % 2 == 0:\n",
    "        print(\"짝수:\", num)\n",
    "    else:\n",
    "        print(\"홀수:\", num)"
   ]
  },
  {
   "cell_type": "markdown",
   "metadata": {},
   "source": [
    "### 반복문 안에서 반복문 사용하기\n",
    "\n",
    "반복문 안에서도 반복문을 사용할 수 있습니다. "
   ]
  },
  {
   "cell_type": "code",
   "execution_count": null,
   "metadata": {},
   "outputs": [],
   "source": [
    "# i과 j가 어떻게 변하는지 디버거로 추적해봅시다.\n",
    "for j in range(3):  # outer loop\n",
    "\n",
    "    print(f\"Line {j}: \", end=\"\")\n",
    "\n",
    "    for i in range(5):  # inner loop\n",
    "        print(i, end=\"\")\n",
    "\n",
    "    print()  # 줄바꿈"
   ]
  },
  {
   "cell_type": "markdown",
   "metadata": {},
   "source": [
    "### 합 구하기 예제\n",
    "\n",
    "주어진 정수 리스트의 합을 구해봅시다."
   ]
  },
  {
   "cell_type": "code",
   "execution_count": null,
   "metadata": {},
   "outputs": [],
   "source": [
    "l = [3, 6, 1, 2, 6, 9, 5]\n",
    "\n",
    "my_sum = 0  # 합을 담을 변수 초기화\n",
    "\n",
    "for i in l:\n",
    "    my_sum += i\n",
    "\n",
    "print(\"합은 : \", my_sum, \"입니다.\")"
   ]
  },
  {
   "cell_type": "markdown",
   "metadata": {},
   "source": [
    "파이썬은 쉽다던데?"
   ]
  },
  {
   "cell_type": "code",
   "execution_count": null,
   "metadata": {},
   "outputs": [],
   "source": [
    "l = [3, 6, 1, 2, 6, 9, 5]\n",
    "\n",
    "sum = 10\n",
    "\n",
    "sum(l)  # [주의] sum을 변수명으로 사용해버리면 함수를 사용할 수 없음"
   ]
  },
  {
   "cell_type": "markdown",
   "metadata": {},
   "source": [
    "[조언] 개개인의 관심사와 지향점에 따라서 공부 방향이 다르겠지요. 파이썬을 C언어처럼 저수준의 용법 위주로 사용하는 것은 효율적이지 못하지만 그래도 프로그래밍의 기본은 알아두는 것을 권장합니다."
   ]
  },
  {
   "cell_type": "markdown",
   "metadata": {},
   "source": [
    "# 반복문 while"
   ]
  },
  {
   "cell_type": "markdown",
   "metadata": {},
   "source": [
    "### ```while```문의 일반적인 형태\n",
    "\n",
    "```while```문의 일반적인 형태를 살펴보겠습니다.\n",
    "\n",
    "```\n",
    "while 조건:\n",
    "    조건이 True일 때 실행될 명령문들\n",
    "else:\n",
    "    반복이 (break없이) 끝났을 때 실행될 명령문들\n",
    "```\n",
    "\n",
    "```while```과 ```:``` 사이에 반복을 계속할 ```조건```이 명시되어야한다는 점에서 ```for```문과 다릅니다. ```조건``` 자리에는 ```True```나 ```False```로 계산될 수 있는 표현식(expression)이 들어올 수 있으며 ```True```라면 반복을 계속하고 ```False```라면 종료합니다. ```조건```이 항상 ```True```라면 사용자가 강제로 종료할 때까지 무한히 반복됩니다."
   ]
  },
  {
   "cell_type": "code",
   "execution_count": null,
   "metadata": {},
   "outputs": [],
   "source": [
    "# # 무한 루프\n",
    "# while True:\n",
    "#     print(\"멈춰주세요!\")"
   ]
  },
  {
   "cell_type": "markdown",
   "metadata": {},
   "source": [
    "```for```문에서 사용하는 이터러블(iterable) 객체들은 내부적으로 종료 조건을 가지고 있습니다. 예를 들어서 리스트 객체라면 가지고 있는 원소 개수만큼 반복을 하면 끝납니다.\n",
    "```while```문을 사용할 때는 우리가 구체적으로 ```조건```을 정확하게 표현해줘야 합니다.\n",
    "\n",
    "```while```문에서 반복 횟수를 조절하는 기본적인 방법은 우리가 직접 횟수를 세는 것입니다."
   ]
  },
  {
   "cell_type": "code",
   "execution_count": null,
   "metadata": {},
   "outputs": [],
   "source": [
    "# 디버거로 추적해봅시다.\n",
    "repeat = 3\n",
    "\n",
    "counter = 0  # 카운터를 초기화합니다.\n",
    "\n",
    "while counter < repeat:\n",
    "    print(str(counter) + \"번째입니다.\")\n",
    "    counter += 1  # [중요] 카운터를 하나 늘려줍니다.\n",
    "else:\n",
    "    print(str(counter) + \"회 반복을 완료하였습니다.\")"
   ]
  },
  {
   "cell_type": "markdown",
   "metadata": {},
   "source": [
    "카운터를 감소시켜나가면서 셀 수도 있습니다."
   ]
  },
  {
   "cell_type": "code",
   "execution_count": null,
   "metadata": {},
   "outputs": [],
   "source": [
    "# 디버거로 추적해봅시다.\n",
    "repeat = 3\n",
    "\n",
    "counter = repeat  # 카운터를 초기화합니다.\n",
    "\n",
    "while counter > 0:\n",
    "    print(str(counter) + \"번째입니다.\")\n",
    "    counter -= 1  # [중요] 카운터를 하나 줄여줍니다.\n",
    "else:\n",
    "    print(str(repeat) + \"회 반복을 완료하였습니다.\")"
   ]
  },
  {
   "cell_type": "markdown",
   "metadata": {},
   "source": [
    "사실 횟수를 세면서 종료 조건을 결정하는 경우에는 ```for```문과 ```range```를 사용하는 것이 더 편합니다. 그러나 ```while```문이 더 편한 경우도 많이 있습니다.  예를 들면 '시간'이 얼마나 지났는 지를 조건으로 사용하거나 어떤 값이 나올지 미리 알 수 없는 난수를 사용하는 경우 등이 있는데 나중에 실습 문제로 풀어보도록 하겠습니다.\n",
    "\n"
   ]
  },
  {
   "cell_type": "markdown",
   "metadata": {},
   "source": [
    "# 기타 흐름제어 도구들\n",
    "\n",
    "### ```break```문 사용법\n",
    "\n",
    "반복 루프 안에서 ```break```문을 만나면 즉시 반복을 종료합니다. 반복 루프를 깨고 나오는 것입니다. ```break``` 다음에는 ```:```이 필요 없습니다."
   ]
  },
  {
   "cell_type": "code",
   "execution_count": 8,
   "metadata": {},
   "outputs": [
    {
     "name": "stdout",
     "output_type": "stream",
     "text": [
      "0\n",
      "종료하였습니다.\n"
     ]
    }
   ],
   "source": [
    "for i in range(0, 1000):\n",
    "    print(i)\n",
    "    break\n",
    "\n",
    "print(\"종료하였습니다.\")"
   ]
  },
  {
   "cell_type": "markdown",
   "metadata": {},
   "source": [
    "```break```는 대부분 ```if```와 함께 사용되는데 ```if```문을 깨고 나오는 것이 아니라 그 ```if```문을 가지고 있는 반복문을 깨고 나오는 것입니다."
   ]
  },
  {
   "cell_type": "code",
   "execution_count": 9,
   "metadata": {},
   "outputs": [
    {
     "name": "stdout",
     "output_type": "stream",
     "text": [
      "0\n",
      "1\n",
      "2\n",
      "3\n",
      "종료하였습니다.\n"
     ]
    }
   ],
   "source": [
    "for i in range(0, 1000):\n",
    "    print(i)\n",
    "    if i == 3:\n",
    "        break\n",
    "\n",
    "print(\"종료하였습니다.\")"
   ]
  },
  {
   "cell_type": "markdown",
   "metadata": {},
   "source": [
    " ```while```문에서는 조건을 True로 두고 루프를 깨고 나오는 탈출 조건을 별도로 설정해두는 용법도 많이 사용합니다. "
   ]
  },
  {
   "cell_type": "code",
   "execution_count": 10,
   "metadata": {},
   "outputs": [
    {
     "name": "stdout",
     "output_type": "stream",
     "text": [
      "안녕하세요?\n"
     ]
    }
   ],
   "source": [
    "import random\n",
    "\n",
    "while True:\n",
    "    user_input = input()\n",
    "    if user_input == \"종료\":\n",
    "        break\n",
    "    print(user_input)"
   ]
  },
  {
   "cell_type": "markdown",
   "metadata": {},
   "source": [
    "```break```문은 ```for```문과도 함께 사용될 수 있습니다. 그러나 ```for```문에서는 가급적 루프를 억지로 깨고나올 일이 없도록 사전에 범위를 잘 설정해주는 것이 더 좋습니다. 아주 단순한 예를 들자면 5까지만 출력한다고 하면 6에서 ```break```로 깨고 나오기 보다는 미리 범위를 5까지 잡아주는게 좋겠지요."
   ]
  },
  {
   "cell_type": "code",
   "execution_count": null,
   "metadata": {},
   "outputs": [],
   "source": [
    "for i in range(0, 1000):\n",
    "    if i > 5:\n",
    "        break\n",
    "    print(i)"
   ]
  },
  {
   "cell_type": "code",
   "execution_count": null,
   "metadata": {},
   "outputs": [],
   "source": [
    "for i in range(0, 6):\n",
    "    print(i)"
   ]
  },
  {
   "cell_type": "markdown",
   "metadata": {},
   "source": [
    "반복 루프가 ```break```로 종료될 경우에는 ```else:```가 무시됩니다. 예를 들어서 리스트 안에서 3을 만나면 종료되는 프로그램을 생각해보겠습니다."
   ]
  },
  {
   "cell_type": "code",
   "execution_count": 13,
   "metadata": {},
   "outputs": [
    {
     "name": "stdout",
     "output_type": "stream",
     "text": [
      "3을 찾았습니다!\n"
     ]
    }
   ],
   "source": [
    "l = [0, 5, 2, 8, 9, 11, 3, 5, 2]\n",
    "\n",
    "for i in l:\n",
    "    if i == 3:\n",
    "        print(\"3을 찾았습니다!\")\n",
    "        break\n",
    "else:\n",
    "    print(\"3을 찾지 못했습니다.\")"
   ]
  },
  {
   "cell_type": "code",
   "execution_count": null,
   "metadata": {},
   "outputs": [],
   "source": [
    "# 리스트 안에 3이 없어서 루프가 break를 만나지 못하고 자연스럽게 종료되는 경우\n",
    "l = [0, 5, 2, 8, 9, 11, 5, 2]\n",
    "\n",
    "for i in l:\n",
    "    if i == 3:\n",
    "        print(\"3을 찾았습니다!\")\n",
    "        break\n",
    "else:\n",
    "    print(\"3을 찾지 못했습니다.\")"
   ]
  },
  {
   "cell_type": "markdown",
   "metadata": {},
   "source": [
    "### ```continue```문 사용법\n",
    "\n",
    "```continue```를 만나면 다시 루프의 시작으로 돌아갑니다. ```for```와 ```while``` 모두 사용할 수 있습니다."
   ]
  },
  {
   "cell_type": "code",
   "execution_count": 14,
   "metadata": {},
   "outputs": [
    {
     "name": "stdout",
     "output_type": "stream",
     "text": [
      "첫 번째 출력입니다.\n",
      "첫 번째 출력입니다.\n",
      "첫 번째 출력입니다.\n"
     ]
    }
   ],
   "source": [
    "for i in range(3):\n",
    "    print(\"첫 번째 출력입니다.\")\n",
    "    continue\n",
    "    print(\"두 번째 출력입니다.\")"
   ]
  },
  {
   "cell_type": "markdown",
   "metadata": {},
   "source": [
    "예를 들어서 리스트 안에서 \"딸기\"를 만날 때마다 \"딸기가 좋아~\"를 출력해보겠습니다. ```continue```도 ```break```와 마찬가지로 대부분 ```if```와 함께 사용됩니다."
   ]
  },
  {
   "cell_type": "code",
   "execution_count": 15,
   "metadata": {},
   "outputs": [
    {
     "name": "stdout",
     "output_type": "stream",
     "text": [
      "딸기가 좋아!\n",
      "딸기가 좋아!\n"
     ]
    }
   ],
   "source": [
    "l = [\"사과\", \"바나나\", \"딸기\", \"수박\", \"오렌지\", \"딸기\"]\n",
    "\n",
    "for i in l:\n",
    "    if i != \"딸기\":\n",
    "        continue\n",
    "\n",
    "    # 주로 이 아래에 코드가 많을 경우 사용합니다.\n",
    "    print(\"딸기가 좋아!\")"
   ]
  },
  {
   "cell_type": "code",
   "execution_count": 16,
   "metadata": {},
   "outputs": [
    {
     "name": "stdout",
     "output_type": "stream",
     "text": [
      "딸기가 좋아!\n",
      "딸기가 좋아!\n"
     ]
    }
   ],
   "source": [
    "l = [\"사과\", \"바나나\", \"딸기\", \"수박\", \"오렌지\", \"딸기\"]\n",
    "\n",
    "# 당연히 이렇게 구현하는게 더 간결하지요.\n",
    "for i in l:\n",
    "    if i == \"딸기\":\n",
    "        print(\"딸기가 좋아!\")"
   ]
  },
  {
   "cell_type": "markdown",
   "metadata": {},
   "source": [
    "### ```pass``` 사용법"
   ]
  },
  {
   "cell_type": "markdown",
   "metadata": {},
   "source": [
    "```pass```는 말 그대로 아무것도 안하고 그냥 지나가는 것입니다. 주로 나중에 뭔가 구현할 계획이 있거나 주석을 달아야할 필요가 있을 때 사용합니다. 반복문이나 조건문 외에도 함수나 클래스 등 어디든 사용가능합니다."
   ]
  },
  {
   "cell_type": "code",
   "execution_count": null,
   "metadata": {},
   "outputs": [],
   "source": [
    "for i in range(0, 5):\n",
    "    if i % 2 == 0:\n",
    "        print(\"짝수\")\n",
    "    else:  # pass가 없다면 else:도 삭제해야 함\n",
    "        pass  # 홀수인 경우에는 절대로 아무것도 출력하지 말 것"
   ]
  },
  {
   "cell_type": "markdown",
   "metadata": {},
   "source": [
    "### 바다코끼리 연산자 (Walrus Operator)"
   ]
  },
  {
   "cell_type": "markdown",
   "metadata": {},
   "source": [
    "바다코끼리 연산자는 파이썬 3.8에 새로 추가되었습니다. 변수에 값을 대입함과 동시에 표현식으로도 사용될 수가 있다는 특징을 가지고 있습니다. 그래서 대입 표현식(assignment expression) 연산자라고 부릅니다. ```:=``` 연산자가 [바다코끼리(Walrus)](https://en.wikipedia.org/wiki/Walrus)를 닮았다고 합니다."
   ]
  },
  {
   "cell_type": "code",
   "execution_count": 17,
   "metadata": {},
   "outputs": [],
   "source": [
    "# 대입만 하고 표현식으로 사용할 수가 없습니다.\n",
    "# 즉, 이 문장 자체로는 '값'이 없습니다.\n",
    "word = \"헬로우\""
   ]
  },
  {
   "cell_type": "code",
   "execution_count": 18,
   "metadata": {},
   "outputs": [
    {
     "data": {
      "text/plain": [
       "'헬로우'"
      ]
     },
     "execution_count": 18,
     "metadata": {},
     "output_type": "execute_result"
    }
   ],
   "source": [
    "# 대입과 동시에 그 자체를 '값'으로 사용할 수 있습니다.\n",
    "(word := \"헬로우\")"
   ]
  },
  {
   "cell_type": "markdown",
   "metadata": {},
   "source": [
    "먼저 바다코끼리 연산자를 사용하지 않는 경우부터 생각해봅시다.\n"
   ]
  },
  {
   "cell_type": "code",
   "execution_count": null,
   "metadata": {},
   "outputs": [],
   "source": [
    "while True:\n",
    "    word = input()\n",
    "    if word == \"종료\":\n",
    "        break\n",
    "    print(word)"
   ]
  },
  {
   "cell_type": "markdown",
   "metadata": {},
   "source": [
    "이때 바다코끼리 연산자를 사용하면 훨씬 간결하게 만들 수 있습니다. ```for```문의 ```대상```(target)과 비슷하게 입력받은 단어를 변수에 담을 수 있기 때문입니다.\n",
    "이때 ```:=``` 연산자의 우선순위가 낮기 때문에 괄호가 필요합니다."
   ]
  },
  {
   "cell_type": "code",
   "execution_count": null,
   "metadata": {},
   "outputs": [],
   "source": [
    "while (word := input()) != \"종료\":\n",
    "    print(word)\n"
   ]
  },
  {
   "cell_type": "code",
   "execution_count": null,
   "metadata": {},
   "outputs": [],
   "source": [
    "\n",
    "\n",
    "\n",
    "\n",
    "\n",
    "\n",
    "\n",
    "\n",
    "\n"
   ]
  },
  {
   "cell_type": "markdown",
   "metadata": {},
   "source": [
    "# 실습 문제들 (뒤로 이동)"
   ]
  },
  {
   "cell_type": "markdown",
   "metadata": {},
   "source": []
  },
  {
   "cell_type": "markdown",
   "metadata": {},
   "source": [
    "예를 들어서 5초동안 1초에 1번에 한 번씩 문자열을 출력하는 프로그램을 만들어봅시다."
   ]
  },
  {
   "cell_type": "code",
   "execution_count": null,
   "metadata": {},
   "outputs": [],
   "source": [
    "# [참고] time.time()은 1970년 1월 1일부터 몇 초가 지났는 지를 알려줍니다.\n",
    "import time\n",
    "\n",
    "#time.time()\n",
    "time.time() / 60 / 60 / 24 / 365"
   ]
  },
  {
   "cell_type": "code",
   "execution_count": null,
   "metadata": {},
   "outputs": [
    {
     "name": "stdout",
     "output_type": "stream",
     "text": [
      "1.0099554061889648\n"
     ]
    }
   ],
   "source": [
    "# time 모듈의 기본적인 사용 방법\n",
    "import time\n",
    "\n",
    "start_time = time.time()  # 초 단위로 시작 시간 기록\n",
    "\n",
    "time.sleep(1)  # 1초 쉽니다\n",
    "\n",
    "end_time = time.time()  # 시간을 다시 잽니다.\n",
    "\n",
    "print(end_time - start_time)  # 지나간 시간 계산"
   ]
  },
  {
   "cell_type": "code",
   "execution_count": null,
   "metadata": {},
   "outputs": [
    {
     "name": "stdout",
     "output_type": "stream",
     "text": [
      "안녕하세요?\n",
      "안녕하세요?\n",
      "안녕하세요?\n",
      "안녕하세요?\n",
      "안녕하세요?\n"
     ]
    }
   ],
   "source": [
    "import time\n",
    "\n",
    "start_time = time.time()  # 시작 조건\n",
    "\n",
    "current_time = start_time\n",
    "\n",
    "while current_time - start_time < 5:  # 시간이 흐름에 따라 조건이 변화\n",
    "    # 현재 시간을 문자열로 바꿔서 출력\n",
    "    #print(time.strftime(\"%H시 %M분 %S초 입니다.\"))\n",
    "    print(\"안녕하세요?\")\n",
    "    \n",
    "    time.sleep(1)\n",
    "    \n",
    "    current_time = time.time()"
   ]
  },
  {
   "cell_type": "code",
   "execution_count": null,
   "metadata": {},
   "outputs": [],
   "source": [
    "import time\n",
    "\n",
    "start_time = time.time()  # 시작 조건\n",
    "\n",
    "while time.time() - start_time < 5:  # 시간이 흐름에 따라 조건이 변화\n",
    "    # 현재 시간을 문자열로 바꿔서 출력\n",
    "    print(time.strftime(\"%H시 %M분 %S초 입니다.\"))\n",
    "    time.sleep(1)"
   ]
  },
  {
   "cell_type": "markdown",
   "metadata": {},
   "source": [
    "주사위를 던져서 3이 나올때까지 계속 던지는 경우를 컴퓨터로 흉내내봅시다. 이때 마지막 3은 출력하지 않습니다."
   ]
  },
  {
   "cell_type": "code",
   "execution_count": null,
   "metadata": {},
   "outputs": [],
   "source": [
    "# 랜덤 모듈의 기본적인 사용법\n",
    "import random\n",
    "\n",
    "random.randrange(1, 7)  # 1이상 7미만 정수를 랜덤하게 발생\n",
    "# 실행시킬때마다 결과가 달라집니다."
   ]
  },
  {
   "cell_type": "code",
   "execution_count": null,
   "metadata": {},
   "outputs": [],
   "source": [
    "\n",
    "\n",
    "\n",
    "\n",
    "\n",
    "\n",
    "\n",
    "\n",
    "import random\n",
    "\n",
    "dice = random.randrange(1, 7)  # 조건과 관련된 변수 초기화\n",
    "\n",
    "while dice != 3:  # 조건 판별\n",
    "    print(dice, end=\" \")\n",
    "    dice = random.randrange(1, 7)  # 변화"
   ]
  },
  {
   "cell_type": "code",
   "execution_count": null,
   "metadata": {},
   "outputs": [],
   "source": [
    "import random\n",
    "\n",
    "# dice 변수를 while 전에서 초기화해둘 필요가 없어집니다.\n",
    "\n",
    "while True:\n",
    "    dice = random.randrange(1, 7)\n",
    "    if dice == 3:\n",
    "        break\n",
    "    print(dice, end=\" \")"
   ]
  },
  {
   "cell_type": "markdown",
   "metadata": {},
   "source": [
    "[참고] 이렇게 현실을 단순화 시켜서 어떤 일이 벌어지는지 실행해보는 것을 시뮬레이션(simulation)이라고 부릅니다."
   ]
  },
  {
   "cell_type": "markdown",
   "metadata": {},
   "source": [
    "[실습] 위의 주사위 예제에 바다코끼리 연산자를 사용해보세요."
   ]
  },
  {
   "cell_type": "code",
   "execution_count": null,
   "metadata": {},
   "outputs": [],
   "source": [
    "import random\n",
    "\n",
    "while (dice := random.randrange(1, 7)) != 3:\n",
    "    print(dice, end=\" \")"
   ]
  }
 ],
 "metadata": {
  "interpreter": {
   "hash": "8018e705143a54fe8977c076a25f32bbbfeba551799f40fa3d5ac4e2da245feb"
  },
  "kernelspec": {
   "display_name": "Python 3 (ipykernel)",
   "language": "python",
   "name": "python3"
  },
  "language_info": {
   "codemirror_mode": {
    "name": "ipython",
    "version": 3
   },
   "file_extension": ".py",
   "mimetype": "text/x-python",
   "name": "python",
   "nbconvert_exporter": "python",
   "pygments_lexer": "ipython3",
   "version": "3.9.5"
  }
 },
 "nbformat": 4,
 "nbformat_minor": 2
}
